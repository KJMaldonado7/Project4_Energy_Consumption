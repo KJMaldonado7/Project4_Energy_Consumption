{
 "cells": [
  {
   "cell_type": "code",
   "execution_count": 22,
   "id": "61da422a",
   "metadata": {},
   "outputs": [],
   "source": [
    "import pandas as pd\n",
    "from sklearn.model_selection import train_test_split\n",
    "from sklearn.linear_model import LinearRegression\n",
    "from sklearn.preprocessing import StandardScaler\n",
    "from sklearn.metrics import mean_squared_error, r2_score\n",
    "\n",
    "# Load your dataset\n",
    "data_path = 'Table_CSVs\\energy_efficient.csv'\n",
    "energy_consumption_df = pd.read_csv(data_path)"
   ]
  },
  {
   "cell_type": "code",
   "execution_count": 23,
   "id": "f3f0b7c0",
   "metadata": {},
   "outputs": [],
   "source": [
    "# Drop any rows with missing values\n",
    "energy_consumption_df.dropna(inplace=True)\n",
    "\n",
    "# Drop the 'DOEID' column and update the DataFrame\n",
    "energy_consumption_df.drop('DOEID', axis=1, inplace=True)\n"
   ]
  },
  {
   "cell_type": "code",
   "execution_count": 35,
   "id": "59406419",
   "metadata": {},
   "outputs": [],
   "source": [
    "# Define a function to perform binning on TOTALBTU column\n",
    "def bin_total_btu(total_btu):\n",
    "    if total_btu < 55000:\n",
    "        return 'Low'\n",
    "    elif total_btu >= 55000 and total_btu < 95000:\n",
    "        return 'Medium'\n",
    "    else:\n",
    "        return 'High'\n",
    "\n",
    "# Apply binning function to create a new column 'BTU_Bin'\n",
    "energy_consumption_df['BTU_Bin'] = energy_consumption_df['TOTALBTU'].apply(bin_total_btu)\n",
    "\n",
    "# Perform one-hot encoding on the 'BTU_Bin' column\n",
    "X_encoded = pd.get_dummies(energy_consumption_df.drop(['TOTALBTU'], axis=1), columns=['BTU_Bin'], drop_first=True)\n",
    "y = energy_consumption_df['TOTALBTU']"
   ]
  },
  {
   "cell_type": "code",
   "execution_count": 36,
   "id": "8f139142",
   "metadata": {},
   "outputs": [],
   "source": [
    "\n",
    "# Split data into training and testing sets\n",
    "X_train, X_test, y_train, y_test = train_test_split(X_encoded, y, test_size=.1, random_state=45)\n",
    "\n",
    "# Feature Scaling\n",
    "scaler = StandardScaler()\n",
    "X_train_scaled = scaler.fit_transform(X_train)\n",
    "X_test_scaled = scaler.transform(X_test)\n"
   ]
  },
  {
   "cell_type": "code",
   "execution_count": 37,
   "id": "f894571e",
   "metadata": {},
   "outputs": [
    {
     "name": "stdout",
     "output_type": "stream",
     "text": [
      "Mean Squared Error (MSE): 608309724.443556\n",
      "R-squared (R2): 0.789263699402284\n"
     ]
    }
   ],
   "source": [
    "# Initialize the Linear Regression model\n",
    "lr_model = LinearRegression()\n",
    "\n",
    "# Train the model\n",
    "lr_model.fit(X_train_scaled, y_train)\n",
    "\n",
    "# Make predictions on the test set\n",
    "y_pred = lr_model.predict(X_test_scaled)\n",
    "\n",
    "# Evaluate model performance\n",
    "mse = mean_squared_error(y_test, y_pred)\n",
    "r2 = r2_score(y_test, y_pred)\n",
    "\n",
    "print(f\"Mean Squared Error (MSE): {mse}\")\n",
    "print(f\"R-squared (R2): {r2}\")"
   ]
  },
  {
   "cell_type": "code",
   "execution_count": 38,
   "id": "65c02743",
   "metadata": {},
   "outputs": [
    {
     "data": {
      "image/png": "[encoded data removed]",
      "text/plain": [
       "<Figure size 800x600 with 1 Axes>"
      ]
     },
     "metadata": {},
     "output_type": "display_data"
    },
    {
     "name": "stdout",
     "output_type": "stream",
     "text": [
      "Counts of samples in each bin:\n",
      "BTU_Bin\n",
      "High      6240\n",
      "Low       6194\n",
      "Medium    6062\n",
      "Name: count, dtype: int64\n"
     ]
    }
   ],
   "source": [
    "import pandas as pd\n",
    "import matplotlib.pyplot as plt\n",
    "\n",
    "# Load your dataset\n",
    "data_path = 'Table_CSVs\\energy_efficient.csv'\n",
    "energy_consumption_df = pd.read_csv(data_path)\n",
    "\n",
    "# Drop any rows with missing values\n",
    "energy_consumption_df.dropna(inplace=True)\n",
    "\n",
    "# Drop the 'DOEID' column and update the DataFrame\n",
    "energy_consumption_df.drop('DOEID', axis=1, inplace=True)\n",
    "\n",
    "# Define a function to perform binning on TOTALBTU column\n",
    "def bin_total_btu(total_btu):\n",
    "    if total_btu < 55000:\n",
    "        return 'Low'\n",
    "    elif total_btu >= 55000 and total_btu < 95000:\n",
    "        return 'Medium'\n",
    "    else:\n",
    "        return 'High'\n",
    "\n",
    "# Apply binning function to create a new column 'BTU_Bin'\n",
    "energy_consumption_df['BTU_Bin'] = energy_consumption_df['TOTALBTU'].apply(bin_total_btu)\n",
    "\n",
    "# Check the balance of bins\n",
    "bin_counts = energy_consumption_df['BTU_Bin'].value_counts()\n",
    "\n",
    "# Plot the distribution of bins\n",
    "plt.figure(figsize=(8, 6))\n",
    "bin_counts.plot(kind='bar', rot=0)\n",
    "plt.title('Distribution of Bins for TOTALBTU')\n",
    "plt.xlabel('Bins')\n",
    "plt.ylabel('Count')\n",
    "plt.show()\n",
    "\n",
    "# Display the counts of samples in each bin\n",
    "print(\"Counts of samples in each bin:\")\n",
    "print(bin_counts)\n"
   ]
  }
 ],
 "metadata": {
  "kernelspec": {
   "display_name": "Python 3 (ipykernel)",
   "language": "python",
   "name": "python3"
  },
  "language_info": {
   "codemirror_mode": {
    "name": "ipython",
    "version": 3
   },
   "file_extension": ".py",
   "mimetype": "text/x-python",
   "name": "python",
   "nbconvert_exporter": "python",
   "pygments_lexer": "ipython3",
   "version": "3.11.5"
  }
 },
 "nbformat": 4,
 "nbformat_minor": 5
}
