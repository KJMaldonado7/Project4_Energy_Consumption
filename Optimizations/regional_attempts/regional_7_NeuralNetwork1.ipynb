{
 "cells": [
  {
   "cell_type": "code",
   "execution_count": 1,
   "metadata": {},
   "outputs": [
    {
     "name": "stdout",
     "output_type": "stream",
     "text": [
      "WARNING:tensorflow:From c:\\ProgramData\\anaconda3\\envs\\dev\\lib\\site-packages\\keras\\src\\losses.py:2976: The name tf.losses.sparse_softmax_cross_entropy is deprecated. Please use tf.compat.v1.losses.sparse_softmax_cross_entropy instead.\n",
      "\n"
     ]
    }
   ],
   "source": [
    "import pandas as pd\n",
    "from sklearn.model_selection import train_test_split\n",
    "from sklearn.compose import ColumnTransformer\n",
    "from sklearn.preprocessing import OneHotEncoder, StandardScaler\n",
    "from tensorflow.keras.models import Sequential\n",
    "from tensorflow.keras.layers import Dense\n",
    "from tensorflow.keras.optimizers import Adam"
   ]
  },
  {
   "cell_type": "code",
   "execution_count": 2,
   "metadata": {},
   "outputs": [
    {
     "data": {
      "text/html": [
       "<div>\n",
       "<style scoped>\n",
       "    .dataframe tbody tr th:only-of-type {\n",
       "        vertical-align: middle;\n",
       "    }\n",
       "\n",
       "    .dataframe tbody tr th {\n",
       "        vertical-align: top;\n",
       "    }\n",
       "\n",
       "    .dataframe thead th {\n",
       "        text-align: right;\n",
       "    }\n",
       "</style>\n",
       "<table border=\"1\" class=\"dataframe\">\n",
       "  <thead>\n",
       "    <tr style=\"text-align: right;\">\n",
       "      <th></th>\n",
       "      <th>DOEID</th>\n",
       "      <th>REGIONC</th>\n",
       "      <th>DIVISION</th>\n",
       "      <th>state_postal</th>\n",
       "      <th>BA_climate</th>\n",
       "      <th>TOTALBTU</th>\n",
       "      <th>TOTALDOL</th>\n",
       "    </tr>\n",
       "  </thead>\n",
       "  <tbody>\n",
       "    <tr>\n",
       "      <th>0</th>\n",
       "      <td>100001</td>\n",
       "      <td>WEST</td>\n",
       "      <td>Mountain South</td>\n",
       "      <td>NM</td>\n",
       "      <td>Mixed-Dry</td>\n",
       "      <td>144647.71</td>\n",
       "      <td>2656.89</td>\n",
       "    </tr>\n",
       "    <tr>\n",
       "      <th>1</th>\n",
       "      <td>100002</td>\n",
       "      <td>SOUTH</td>\n",
       "      <td>West South Central</td>\n",
       "      <td>AR</td>\n",
       "      <td>Mixed-Humid</td>\n",
       "      <td>28034.61</td>\n",
       "      <td>975.00</td>\n",
       "    </tr>\n",
       "    <tr>\n",
       "      <th>2</th>\n",
       "      <td>100003</td>\n",
       "      <td>WEST</td>\n",
       "      <td>Mountain South</td>\n",
       "      <td>NM</td>\n",
       "      <td>Mixed-Dry</td>\n",
       "      <td>30749.71</td>\n",
       "      <td>522.65</td>\n",
       "    </tr>\n",
       "    <tr>\n",
       "      <th>3</th>\n",
       "      <td>100004</td>\n",
       "      <td>SOUTH</td>\n",
       "      <td>South Atlantic</td>\n",
       "      <td>SC</td>\n",
       "      <td>Mixed-Humid</td>\n",
       "      <td>86765.19</td>\n",
       "      <td>2061.77</td>\n",
       "    </tr>\n",
       "    <tr>\n",
       "      <th>4</th>\n",
       "      <td>100005</td>\n",
       "      <td>NORTHEAST</td>\n",
       "      <td>Middle Atlantic</td>\n",
       "      <td>NJ</td>\n",
       "      <td>Mixed-Humid</td>\n",
       "      <td>59126.93</td>\n",
       "      <td>1463.04</td>\n",
       "    </tr>\n",
       "    <tr>\n",
       "      <th>...</th>\n",
       "      <td>...</td>\n",
       "      <td>...</td>\n",
       "      <td>...</td>\n",
       "      <td>...</td>\n",
       "      <td>...</td>\n",
       "      <td>...</td>\n",
       "      <td>...</td>\n",
       "    </tr>\n",
       "    <tr>\n",
       "      <th>18491</th>\n",
       "      <td>118492</td>\n",
       "      <td>SOUTH</td>\n",
       "      <td>South Atlantic</td>\n",
       "      <td>MD</td>\n",
       "      <td>Mixed-Humid</td>\n",
       "      <td>49930.49</td>\n",
       "      <td>1098.51</td>\n",
       "    </tr>\n",
       "    <tr>\n",
       "      <th>18492</th>\n",
       "      <td>118493</td>\n",
       "      <td>NORTHEAST</td>\n",
       "      <td>New England</td>\n",
       "      <td>ME</td>\n",
       "      <td>Very-Cold</td>\n",
       "      <td>222186.04</td>\n",
       "      <td>3613.44</td>\n",
       "    </tr>\n",
       "    <tr>\n",
       "      <th>18493</th>\n",
       "      <td>118494</td>\n",
       "      <td>SOUTH</td>\n",
       "      <td>West South Central</td>\n",
       "      <td>TX</td>\n",
       "      <td>Hot-Humid</td>\n",
       "      <td>51593.72</td>\n",
       "      <td>1428.31</td>\n",
       "    </tr>\n",
       "    <tr>\n",
       "      <th>18494</th>\n",
       "      <td>118495</td>\n",
       "      <td>SOUTH</td>\n",
       "      <td>South Atlantic</td>\n",
       "      <td>SC</td>\n",
       "      <td>Hot-Humid</td>\n",
       "      <td>63555.21</td>\n",
       "      <td>2224.94</td>\n",
       "    </tr>\n",
       "    <tr>\n",
       "      <th>18495</th>\n",
       "      <td>118496</td>\n",
       "      <td>MIDWEST</td>\n",
       "      <td>West North Central</td>\n",
       "      <td>MO</td>\n",
       "      <td>Mixed-Humid</td>\n",
       "      <td>67621.81</td>\n",
       "      <td>1957.28</td>\n",
       "    </tr>\n",
       "  </tbody>\n",
       "</table>\n",
       "<p>18496 rows × 7 columns</p>\n",
       "</div>"
      ],
      "text/plain": [
       "        DOEID    REGIONC            DIVISION state_postal   BA_climate  \\\n",
       "0      100001       WEST      Mountain South           NM    Mixed-Dry   \n",
       "1      100002      SOUTH  West South Central           AR  Mixed-Humid   \n",
       "2      100003       WEST      Mountain South           NM    Mixed-Dry   \n",
       "3      100004      SOUTH      South Atlantic           SC  Mixed-Humid   \n",
       "4      100005  NORTHEAST     Middle Atlantic           NJ  Mixed-Humid   \n",
       "...       ...        ...                 ...          ...          ...   \n",
       "18491  118492      SOUTH      South Atlantic           MD  Mixed-Humid   \n",
       "18492  118493  NORTHEAST         New England           ME    Very-Cold   \n",
       "18493  118494      SOUTH  West South Central           TX    Hot-Humid   \n",
       "18494  118495      SOUTH      South Atlantic           SC    Hot-Humid   \n",
       "18495  118496    MIDWEST  West North Central           MO  Mixed-Humid   \n",
       "\n",
       "        TOTALBTU  TOTALDOL  \n",
       "0      144647.71   2656.89  \n",
       "1       28034.61    975.00  \n",
       "2       30749.71    522.65  \n",
       "3       86765.19   2061.77  \n",
       "4       59126.93   1463.04  \n",
       "...          ...       ...  \n",
       "18491   49930.49   1098.51  \n",
       "18492  222186.04   3613.44  \n",
       "18493   51593.72   1428.31  \n",
       "18494   63555.21   2224.94  \n",
       "18495   67621.81   1957.28  \n",
       "\n",
       "[18496 rows x 7 columns]"
      ]
     },
     "execution_count": 2,
     "metadata": {},
     "output_type": "execute_result"
    }
   ],
   "source": [
    "# Read in CSV file\n",
    "regional_df = pd.read_csv(\"Table_CSVs/regional.csv\")\n",
    "regional_df"
   ]
  },
  {
   "cell_type": "code",
   "execution_count": 5,
   "metadata": {},
   "outputs": [
    {
     "data": {
      "text/html": [
       "<div>\n",
       "<style scoped>\n",
       "    .dataframe tbody tr th:only-of-type {\n",
       "        vertical-align: middle;\n",
       "    }\n",
       "\n",
       "    .dataframe tbody tr th {\n",
       "        vertical-align: top;\n",
       "    }\n",
       "\n",
       "    .dataframe thead th {\n",
       "        text-align: right;\n",
       "    }\n",
       "</style>\n",
       "<table border=\"1\" class=\"dataframe\">\n",
       "  <thead>\n",
       "    <tr style=\"text-align: right;\">\n",
       "      <th></th>\n",
       "      <th>REGIONC</th>\n",
       "      <th>DIVISION</th>\n",
       "      <th>state_postal</th>\n",
       "      <th>BA_climate</th>\n",
       "      <th>TOTALBTU</th>\n",
       "      <th>TOTALDOL</th>\n",
       "    </tr>\n",
       "  </thead>\n",
       "  <tbody>\n",
       "    <tr>\n",
       "      <th>0</th>\n",
       "      <td>WEST</td>\n",
       "      <td>Mountain South</td>\n",
       "      <td>NM</td>\n",
       "      <td>Mixed-Dry</td>\n",
       "      <td>144647.71</td>\n",
       "      <td>2656.89</td>\n",
       "    </tr>\n",
       "    <tr>\n",
       "      <th>1</th>\n",
       "      <td>SOUTH</td>\n",
       "      <td>West South Central</td>\n",
       "      <td>AR</td>\n",
       "      <td>Mixed-Humid</td>\n",
       "      <td>28034.61</td>\n",
       "      <td>975.00</td>\n",
       "    </tr>\n",
       "    <tr>\n",
       "      <th>2</th>\n",
       "      <td>WEST</td>\n",
       "      <td>Mountain South</td>\n",
       "      <td>NM</td>\n",
       "      <td>Mixed-Dry</td>\n",
       "      <td>30749.71</td>\n",
       "      <td>522.65</td>\n",
       "    </tr>\n",
       "    <tr>\n",
       "      <th>3</th>\n",
       "      <td>SOUTH</td>\n",
       "      <td>South Atlantic</td>\n",
       "      <td>SC</td>\n",
       "      <td>Mixed-Humid</td>\n",
       "      <td>86765.19</td>\n",
       "      <td>2061.77</td>\n",
       "    </tr>\n",
       "    <tr>\n",
       "      <th>4</th>\n",
       "      <td>NORTHEAST</td>\n",
       "      <td>Middle Atlantic</td>\n",
       "      <td>NJ</td>\n",
       "      <td>Mixed-Humid</td>\n",
       "      <td>59126.93</td>\n",
       "      <td>1463.04</td>\n",
       "    </tr>\n",
       "  </tbody>\n",
       "</table>\n",
       "</div>"
      ],
      "text/plain": [
       "     REGIONC            DIVISION state_postal   BA_climate   TOTALBTU  \\\n",
       "0       WEST      Mountain South           NM    Mixed-Dry  144647.71   \n",
       "1      SOUTH  West South Central           AR  Mixed-Humid   28034.61   \n",
       "2       WEST      Mountain South           NM    Mixed-Dry   30749.71   \n",
       "3      SOUTH      South Atlantic           SC  Mixed-Humid   86765.19   \n",
       "4  NORTHEAST     Middle Atlantic           NJ  Mixed-Humid   59126.93   \n",
       "\n",
       "   TOTALDOL  \n",
       "0   2656.89  \n",
       "1    975.00  \n",
       "2    522.65  \n",
       "3   2061.77  \n",
       "4   1463.04  "
      ]
     },
     "execution_count": 5,
     "metadata": {},
     "output_type": "execute_result"
    }
   ],
   "source": [
    "# Create DataFrame with regional information\n",
    "regional_df = regional_df.drop(columns='DOEID')\n",
    "regional_df.head()"
   ]
  },
  {
   "cell_type": "code",
   "execution_count": 6,
   "metadata": {},
   "outputs": [
    {
     "data": {
      "text/plain": [
       "REGIONC         0\n",
       "DIVISION        0\n",
       "state_postal    0\n",
       "BA_climate      0\n",
       "TOTALBTU        0\n",
       "TOTALDOL        0\n",
       "dtype: int64"
      ]
     },
     "execution_count": 6,
     "metadata": {},
     "output_type": "execute_result"
    }
   ],
   "source": [
    "#Checking nulls\n",
    "regional_df.isnull().sum()"
   ]
  },
  {
   "cell_type": "code",
   "execution_count": 7,
   "metadata": {},
   "outputs": [],
   "source": [
    "# One-hot encode the categorical features and scale the numerical targets\n",
    "ct = ColumnTransformer(\n",
    "    [('one_hot_encoder', OneHotEncoder(sparse=False), ['REGIONC', 'DIVISION', 'state_postal', 'BA_climate'])],\n",
    "    remainder='passthrough'\n",
    ")"
   ]
  },
  {
   "cell_type": "code",
   "execution_count": 8,
   "metadata": {},
   "outputs": [
    {
     "name": "stderr",
     "output_type": "stream",
     "text": [
      "c:\\ProgramData\\anaconda3\\envs\\dev\\lib\\site-packages\\sklearn\\preprocessing\\_encoders.py:972: FutureWarning: `sparse` was renamed to `sparse_output` in version 1.2 and will be removed in 1.4. `sparse_output` is ignored unless you leave `sparse` to its default value.\n",
      "  warnings.warn(\n"
     ]
    }
   ],
   "source": [
    "# Prepare the features\n",
    "features = ['REGIONC', 'DIVISION', 'state_postal', 'BA_climate']\n",
    "X = regional_df[features]\n",
    "X = ct.fit_transform(X)"
   ]
  },
  {
   "cell_type": "code",
   "execution_count": 9,
   "metadata": {},
   "outputs": [],
   "source": [
    "# Prepare the targets\n",
    "target_features = ['TOTALDOL', 'TOTALBTU']\n",
    "Y = regional_df[target_features]\n",
    "Y = StandardScaler().fit_transform(Y)  "
   ]
  },
  {
   "cell_type": "code",
   "execution_count": 11,
   "metadata": {},
   "outputs": [],
   "source": [
    "# Split the dataset into training and testing sets\n",
    "X_train, X_test, Y_train, Y_test = train_test_split(X, Y, test_size=0.2, random_state=42)"
   ]
  },
  {
   "cell_type": "code",
   "execution_count": 12,
   "metadata": {},
   "outputs": [
    {
     "name": "stdout",
     "output_type": "stream",
     "text": [
      "WARNING:tensorflow:From c:\\ProgramData\\anaconda3\\envs\\dev\\lib\\site-packages\\keras\\src\\backend.py:873: The name tf.get_default_graph is deprecated. Please use tf.compat.v1.get_default_graph instead.\n",
      "\n"
     ]
    }
   ],
   "source": [
    "# Define the model\n",
    "model = Sequential([\n",
    "    Dense(64, activation='relu', input_shape=(X_train.shape[1],)),\n",
    "    Dense(64, activation='relu'),\n",
    "    Dense(Y_train.shape[1])  # Output layer with 2 neurons (one for each target)\n",
    "])"
   ]
  },
  {
   "cell_type": "code",
   "execution_count": 13,
   "metadata": {},
   "outputs": [],
   "source": [
    "# Compile the model\n",
    "model.compile(optimizer=Adam(), loss='mse')"
   ]
  },
  {
   "cell_type": "code",
   "execution_count": 14,
   "metadata": {},
   "outputs": [
    {
     "name": "stdout",
     "output_type": "stream",
     "text": [
      "Epoch 1/100\n",
      "WARNING:tensorflow:From c:\\ProgramData\\anaconda3\\envs\\dev\\lib\\site-packages\\keras\\src\\utils\\tf_utils.py:492: The name tf.ragged.RaggedTensorValue is deprecated. Please use tf.compat.v1.ragged.RaggedTensorValue instead.\n",
      "\n",
      "370/370 [==============================] - 1s 1ms/step - loss: 0.9401 - val_loss: 0.8838\n",
      "Epoch 2/100\n",
      "370/370 [==============================] - 0s 1ms/step - loss: 0.9198 - val_loss: 0.8837\n",
      "Epoch 3/100\n",
      "370/370 [==============================] - 0s 1ms/step - loss: 0.9174 - val_loss: 0.8813\n",
      "Epoch 4/100\n",
      "370/370 [==============================] - 0s 1ms/step - loss: 0.9147 - val_loss: 0.8845\n",
      "Epoch 5/100\n",
      "370/370 [==============================] - 1s 1ms/step - loss: 0.9147 - val_loss: 0.8807\n",
      "Epoch 6/100\n",
      "370/370 [==============================] - 0s 1ms/step - loss: 0.9144 - val_loss: 0.8799\n",
      "Epoch 7/100\n",
      "370/370 [==============================] - 1s 2ms/step - loss: 0.9130 - val_loss: 0.8788\n",
      "Epoch 8/100\n",
      "370/370 [==============================] - 1s 1ms/step - loss: 0.9129 - val_loss: 0.8835\n",
      "Epoch 9/100\n",
      "370/370 [==============================] - 0s 1ms/step - loss: 0.9132 - val_loss: 0.8819\n",
      "Epoch 10/100\n",
      "370/370 [==============================] - 0s 1ms/step - loss: 0.9121 - val_loss: 0.8793\n",
      "Epoch 11/100\n",
      "370/370 [==============================] - 1s 1ms/step - loss: 0.9117 - val_loss: 0.8810\n",
      "Epoch 12/100\n",
      "370/370 [==============================] - 0s 1ms/step - loss: 0.9120 - val_loss: 0.8821\n",
      "Epoch 13/100\n",
      "370/370 [==============================] - 0s 1ms/step - loss: 0.9125 - val_loss: 0.8792\n",
      "Epoch 14/100\n",
      "370/370 [==============================] - 0s 1ms/step - loss: 0.9122 - val_loss: 0.8794\n",
      "Epoch 15/100\n",
      "370/370 [==============================] - 0s 1ms/step - loss: 0.9111 - val_loss: 0.8801\n",
      "Epoch 16/100\n",
      "370/370 [==============================] - 1s 1ms/step - loss: 0.9117 - val_loss: 0.8807\n",
      "Epoch 17/100\n",
      "370/370 [==============================] - 0s 1ms/step - loss: 0.9115 - val_loss: 0.8812\n",
      "Epoch 18/100\n",
      "370/370 [==============================] - 0s 1ms/step - loss: 0.9109 - val_loss: 0.8794\n",
      "Epoch 19/100\n",
      "370/370 [==============================] - 0s 1ms/step - loss: 0.9111 - val_loss: 0.8791\n",
      "Epoch 20/100\n",
      "370/370 [==============================] - 0s 1ms/step - loss: 0.9106 - val_loss: 0.8866\n",
      "Epoch 21/100\n",
      "370/370 [==============================] - 0s 1ms/step - loss: 0.9116 - val_loss: 0.8791\n",
      "Epoch 22/100\n",
      "370/370 [==============================] - 0s 1ms/step - loss: 0.9104 - val_loss: 0.8815\n",
      "Epoch 23/100\n",
      "370/370 [==============================] - 0s 1ms/step - loss: 0.9105 - val_loss: 0.8821\n",
      "Epoch 24/100\n",
      "370/370 [==============================] - 0s 1ms/step - loss: 0.9104 - val_loss: 0.8799\n",
      "Epoch 25/100\n",
      "370/370 [==============================] - 0s 1ms/step - loss: 0.9102 - val_loss: 0.8807\n",
      "Epoch 26/100\n",
      "370/370 [==============================] - 1s 1ms/step - loss: 0.9106 - val_loss: 0.8838\n",
      "Epoch 27/100\n",
      "370/370 [==============================] - 0s 1ms/step - loss: 0.9107 - val_loss: 0.8825\n",
      "Epoch 28/100\n",
      "370/370 [==============================] - 0s 1ms/step - loss: 0.9105 - val_loss: 0.8804\n",
      "Epoch 29/100\n",
      "370/370 [==============================] - 0s 1ms/step - loss: 0.9106 - val_loss: 0.8817\n",
      "Epoch 30/100\n",
      "370/370 [==============================] - 0s 1ms/step - loss: 0.9095 - val_loss: 0.8782\n",
      "Epoch 31/100\n",
      "370/370 [==============================] - 0s 1ms/step - loss: 0.9099 - val_loss: 0.8798\n",
      "Epoch 32/100\n",
      "370/370 [==============================] - 0s 1ms/step - loss: 0.9101 - val_loss: 0.8813\n",
      "Epoch 33/100\n",
      "370/370 [==============================] - 0s 1ms/step - loss: 0.9099 - val_loss: 0.8814\n",
      "Epoch 34/100\n",
      "370/370 [==============================] - 0s 1ms/step - loss: 0.9102 - val_loss: 0.8798\n",
      "Epoch 35/100\n",
      "370/370 [==============================] - 0s 1ms/step - loss: 0.9100 - val_loss: 0.8815\n",
      "Epoch 36/100\n",
      "370/370 [==============================] - 0s 1ms/step - loss: 0.9101 - val_loss: 0.8810\n",
      "Epoch 37/100\n",
      "370/370 [==============================] - 0s 1ms/step - loss: 0.9100 - val_loss: 0.8810\n",
      "Epoch 38/100\n",
      "370/370 [==============================] - 0s 1ms/step - loss: 0.9098 - val_loss: 0.8812\n",
      "Epoch 39/100\n",
      "370/370 [==============================] - 0s 1ms/step - loss: 0.9094 - val_loss: 0.8831\n",
      "Epoch 40/100\n",
      "370/370 [==============================] - 0s 1ms/step - loss: 0.9099 - val_loss: 0.8813\n",
      "Epoch 41/100\n",
      "370/370 [==============================] - 1s 1ms/step - loss: 0.9096 - val_loss: 0.8826\n",
      "Epoch 42/100\n",
      "370/370 [==============================] - 0s 1ms/step - loss: 0.9093 - val_loss: 0.8813\n",
      "Epoch 43/100\n",
      "370/370 [==============================] - 0s 1ms/step - loss: 0.9098 - val_loss: 0.8786\n",
      "Epoch 44/100\n",
      "370/370 [==============================] - 0s 1ms/step - loss: 0.9097 - val_loss: 0.8819\n",
      "Epoch 45/100\n",
      "370/370 [==============================] - 0s 1ms/step - loss: 0.9091 - val_loss: 0.8820\n",
      "Epoch 46/100\n",
      "370/370 [==============================] - 0s 1ms/step - loss: 0.9091 - val_loss: 0.8819\n",
      "Epoch 47/100\n",
      "370/370 [==============================] - 1s 1ms/step - loss: 0.9086 - val_loss: 0.8858\n",
      "Epoch 48/100\n",
      "370/370 [==============================] - 0s 1ms/step - loss: 0.9087 - val_loss: 0.8824\n",
      "Epoch 49/100\n",
      "370/370 [==============================] - 0s 1ms/step - loss: 0.9089 - val_loss: 0.8789\n",
      "Epoch 50/100\n",
      "370/370 [==============================] - 0s 1ms/step - loss: 0.9088 - val_loss: 0.8807\n",
      "Epoch 51/100\n",
      "370/370 [==============================] - 0s 1ms/step - loss: 0.9091 - val_loss: 0.8806\n",
      "Epoch 52/100\n",
      "370/370 [==============================] - 0s 1ms/step - loss: 0.9095 - val_loss: 0.8806\n",
      "Epoch 53/100\n",
      "370/370 [==============================] - 0s 1ms/step - loss: 0.9091 - val_loss: 0.8812\n",
      "Epoch 54/100\n",
      "370/370 [==============================] - 0s 1ms/step - loss: 0.9098 - val_loss: 0.8791\n",
      "Epoch 55/100\n",
      "370/370 [==============================] - 1s 1ms/step - loss: 0.9085 - val_loss: 0.8808\n",
      "Epoch 56/100\n",
      "370/370 [==============================] - 0s 1ms/step - loss: 0.9087 - val_loss: 0.8809\n",
      "Epoch 57/100\n",
      "370/370 [==============================] - 0s 1ms/step - loss: 0.9092 - val_loss: 0.8800\n",
      "Epoch 58/100\n",
      "370/370 [==============================] - 0s 1ms/step - loss: 0.9088 - val_loss: 0.8821\n",
      "Epoch 59/100\n",
      "370/370 [==============================] - 1s 1ms/step - loss: 0.9089 - val_loss: 0.8796\n",
      "Epoch 60/100\n",
      "370/370 [==============================] - 0s 1ms/step - loss: 0.9090 - val_loss: 0.8806\n",
      "Epoch 61/100\n",
      "370/370 [==============================] - 0s 1ms/step - loss: 0.9085 - val_loss: 0.8792\n",
      "Epoch 62/100\n",
      "370/370 [==============================] - 0s 1ms/step - loss: 0.9088 - val_loss: 0.8802\n",
      "Epoch 63/100\n",
      "370/370 [==============================] - 1s 1ms/step - loss: 0.9088 - val_loss: 0.8798\n",
      "Epoch 64/100\n",
      "370/370 [==============================] - 0s 1ms/step - loss: 0.9087 - val_loss: 0.8804\n",
      "Epoch 65/100\n",
      "370/370 [==============================] - 0s 1ms/step - loss: 0.9088 - val_loss: 0.8848\n",
      "Epoch 66/100\n",
      "370/370 [==============================] - 1s 1ms/step - loss: 0.9080 - val_loss: 0.8863\n",
      "Epoch 67/100\n",
      "370/370 [==============================] - 0s 1ms/step - loss: 0.9090 - val_loss: 0.8790\n",
      "Epoch 68/100\n",
      "370/370 [==============================] - 1s 1ms/step - loss: 0.9083 - val_loss: 0.8779\n",
      "Epoch 69/100\n",
      "370/370 [==============================] - 0s 1ms/step - loss: 0.9085 - val_loss: 0.8794\n",
      "Epoch 70/100\n",
      "370/370 [==============================] - 1s 1ms/step - loss: 0.9089 - val_loss: 0.8785\n",
      "Epoch 71/100\n",
      "370/370 [==============================] - 1s 1ms/step - loss: 0.9085 - val_loss: 0.8823\n",
      "Epoch 72/100\n",
      "370/370 [==============================] - 0s 1ms/step - loss: 0.9089 - val_loss: 0.8808\n",
      "Epoch 73/100\n",
      "370/370 [==============================] - 0s 1ms/step - loss: 0.9085 - val_loss: 0.8804\n",
      "Epoch 74/100\n",
      "370/370 [==============================] - 1s 1ms/step - loss: 0.9082 - val_loss: 0.8833\n",
      "Epoch 75/100\n",
      "370/370 [==============================] - 0s 1ms/step - loss: 0.9081 - val_loss: 0.8820\n",
      "Epoch 76/100\n",
      "370/370 [==============================] - 0s 1ms/step - loss: 0.9087 - val_loss: 0.8823\n",
      "Epoch 77/100\n",
      "370/370 [==============================] - 0s 1ms/step - loss: 0.9084 - val_loss: 0.8824\n",
      "Epoch 78/100\n",
      "370/370 [==============================] - 0s 1ms/step - loss: 0.9080 - val_loss: 0.8814\n",
      "Epoch 79/100\n",
      "370/370 [==============================] - 0s 1ms/step - loss: 0.9079 - val_loss: 0.8853\n",
      "Epoch 80/100\n",
      "370/370 [==============================] - 0s 1ms/step - loss: 0.9087 - val_loss: 0.8789\n",
      "Epoch 81/100\n",
      "370/370 [==============================] - 0s 1ms/step - loss: 0.9080 - val_loss: 0.8805\n",
      "Epoch 82/100\n",
      "370/370 [==============================] - 0s 1ms/step - loss: 0.9088 - val_loss: 0.8802\n",
      "Epoch 83/100\n",
      "370/370 [==============================] - 1s 2ms/step - loss: 0.9087 - val_loss: 0.8792\n",
      "Epoch 84/100\n",
      "370/370 [==============================] - 0s 1ms/step - loss: 0.9080 - val_loss: 0.8834\n",
      "Epoch 85/100\n",
      "370/370 [==============================] - 0s 1ms/step - loss: 0.9083 - val_loss: 0.8806\n",
      "Epoch 86/100\n",
      "370/370 [==============================] - 1s 1ms/step - loss: 0.9088 - val_loss: 0.8819\n",
      "Epoch 87/100\n",
      "370/370 [==============================] - 1s 2ms/step - loss: 0.9083 - val_loss: 0.8810\n",
      "Epoch 88/100\n",
      "370/370 [==============================] - 0s 1ms/step - loss: 0.9079 - val_loss: 0.8838\n",
      "Epoch 89/100\n",
      "370/370 [==============================] - 0s 1ms/step - loss: 0.9086 - val_loss: 0.8809\n",
      "Epoch 90/100\n",
      "370/370 [==============================] - 0s 1ms/step - loss: 0.9081 - val_loss: 0.8803\n",
      "Epoch 91/100\n",
      "370/370 [==============================] - 0s 1ms/step - loss: 0.9078 - val_loss: 0.8780\n",
      "Epoch 92/100\n",
      "370/370 [==============================] - 1s 1ms/step - loss: 0.9085 - val_loss: 0.8817\n",
      "Epoch 93/100\n",
      "370/370 [==============================] - 0s 1ms/step - loss: 0.9081 - val_loss: 0.8813\n",
      "Epoch 94/100\n",
      "370/370 [==============================] - 0s 1ms/step - loss: 0.9083 - val_loss: 0.8826\n",
      "Epoch 95/100\n",
      "370/370 [==============================] - 0s 1ms/step - loss: 0.9083 - val_loss: 0.8789\n",
      "Epoch 96/100\n",
      "370/370 [==============================] - 0s 1ms/step - loss: 0.9083 - val_loss: 0.8811\n",
      "Epoch 97/100\n",
      "370/370 [==============================] - 0s 1ms/step - loss: 0.9079 - val_loss: 0.8807\n",
      "Epoch 98/100\n",
      "370/370 [==============================] - 0s 1ms/step - loss: 0.9081 - val_loss: 0.8802\n",
      "Epoch 99/100\n",
      "370/370 [==============================] - 0s 1ms/step - loss: 0.9083 - val_loss: 0.8815\n",
      "Epoch 100/100\n",
      "370/370 [==============================] - 0s 1ms/step - loss: 0.9080 - val_loss: 0.8789\n"
     ]
    },
    {
     "data": {
      "text/plain": [
       "<keras.src.callbacks.History at 0x29120f17a30>"
      ]
     },
     "execution_count": 14,
     "metadata": {},
     "output_type": "execute_result"
    }
   ],
   "source": [
    "# Fit the model to the data\n",
    "model.fit(X_train, Y_train, epochs=100, batch_size=32, validation_split=0.2)"
   ]
  },
  {
   "cell_type": "code",
   "execution_count": 16,
   "metadata": {},
   "outputs": [
    {
     "name": "stdout",
     "output_type": "stream",
     "text": [
      "116/116 [==============================] - 0s 784us/step - loss: 0.8223\n"
     ]
    }
   ],
   "source": [
    "# Evaluate the model on the test data\n",
    "test_loss = model.evaluate(X_test, Y_test)"
   ]
  },
  {
   "cell_type": "code",
   "execution_count": 17,
   "metadata": {},
   "outputs": [
    {
     "name": "stdout",
     "output_type": "stream",
     "text": [
      "116/116 [==============================] - 0s 678us/step\n"
     ]
    }
   ],
   "source": [
    "# Predict the energy consumption for the test set\n",
    "Y_pred = model.predict(X_test)"
   ]
  },
  {
   "cell_type": "code",
   "execution_count": 18,
   "metadata": {},
   "outputs": [],
   "source": [
    "#Inverse the scaling to interpret the predictions in their original scale\n",
    "scaler = StandardScaler().fit(regional_df[target_features])\n",
    "Y_pred_rescaled = scaler.inverse_transform(Y_pred)"
   ]
  },
  {
   "cell_type": "code",
   "execution_count": 20,
   "metadata": {},
   "outputs": [
    {
     "name": "stdout",
     "output_type": "stream",
     "text": [
      "Test loss (MSE): 0.8223126530647278\n",
      "Predictions: [[  2286.1555  81924.79  ]\n",
      " [  1932.0144 103277.48  ]\n",
      " [  1987.1519  93124.64  ]\n",
      " ...\n",
      " [  2145.0022  91796.49  ]\n",
      " [  1939.3438 101472.    ]\n",
      " [  2106.3545 104262.85  ]]\n"
     ]
    }
   ],
   "source": [
    "print(\"Test loss (MSE):\", test_loss)\n",
    "print(\"Predictions:\", Y_pred_rescaled)"
   ]
  },
  {
   "cell_type": "code",
   "execution_count": 22,
   "metadata": {},
   "outputs": [
    {
     "ename": "NameError",
     "evalue": "name 'r2_score' is not defined",
     "output_type": "error",
     "traceback": [
      "\u001b[1;31m---------------------------------------------------------------------------\u001b[0m",
      "\u001b[1;31mNameError\u001b[0m                                 Traceback (most recent call last)",
      "Cell \u001b[1;32mIn[22], line 2\u001b[0m\n\u001b[0;32m      1\u001b[0m \u001b[38;5;66;03m# Calculate R-squared\u001b[39;00m\n\u001b[1;32m----> 2\u001b[0m r2 \u001b[38;5;241m=\u001b[39m \u001b[43mr2_score\u001b[49m(Y_test, Y_pred_rescaled)\n\u001b[0;32m      3\u001b[0m \u001b[38;5;28mprint\u001b[39m(\u001b[38;5;124m\"\u001b[39m\u001b[38;5;124mR-squared:\u001b[39m\u001b[38;5;124m\"\u001b[39m, r2)\n",
      "\u001b[1;31mNameError\u001b[0m: name 'r2_score' is not defined"
     ]
    }
   ],
   "source": [
    "# Calculate R-squared\n",
    "r2 = r2_score(Y_test, Y_pred_rescaled)\n",
    "print(\"R-squared:\", r2)"
   ]
  }
 ],
 "metadata": {
  "kernelspec": {
   "display_name": "dev",
   "language": "python",
   "name": "python3"
  },
  "language_info": {
   "codemirror_mode": {
    "name": "ipython",
    "version": 3
   },
   "file_extension": ".py",
   "mimetype": "text/x-python",
   "name": "python",
   "nbconvert_exporter": "python",
   "pygments_lexer": "ipython3",
   "version": "3.10.13"
  }
 },
 "nbformat": 4,
 "nbformat_minor": 2
}
