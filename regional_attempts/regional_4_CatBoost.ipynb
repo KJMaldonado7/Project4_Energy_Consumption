{
 "cells": [
  {
   "cell_type": "code",
   "execution_count": 2,
   "metadata": {},
   "outputs": [],
   "source": [
    "import pandas as pd\n",
    "from catboost import CatBoostRegressor, Pool\n",
    "from sklearn.model_selection import train_test_split\n",
    "from sklearn.linear_model import LinearRegression\n",
    "from sklearn.metrics import mean_squared_error, r2_score\n",
    "from sklearn.ensemble import RandomForestRegressor\n",
    "from sklearn.preprocessing import OneHotEncoder\n",
    "from sklearn.compose import ColumnTransformer\n",
    "from sklearn.pipeline import Pipeline\n",
    "from sklearn.model_selection import GridSearchCV"
   ]
  },
  {
   "cell_type": "code",
   "execution_count": 3,
   "metadata": {},
   "outputs": [
    {
     "data": {
      "text/html": [
       "<div>\n",
       "<style scoped>\n",
       "    .dataframe tbody tr th:only-of-type {\n",
       "        vertical-align: middle;\n",
       "    }\n",
       "\n",
       "    .dataframe tbody tr th {\n",
       "        vertical-align: top;\n",
       "    }\n",
       "\n",
       "    .dataframe thead th {\n",
       "        text-align: right;\n",
       "    }\n",
       "</style>\n",
       "<table border=\"1\" class=\"dataframe\">\n",
       "  <thead>\n",
       "    <tr style=\"text-align: right;\">\n",
       "      <th></th>\n",
       "      <th>Unnamed: 0</th>\n",
       "      <th>DOEID</th>\n",
       "      <th>REGIONC</th>\n",
       "      <th>DIVISION</th>\n",
       "      <th>state_postal</th>\n",
       "      <th>BA_climate</th>\n",
       "      <th>TOTALBTU</th>\n",
       "      <th>TOTALDOL</th>\n",
       "    </tr>\n",
       "  </thead>\n",
       "  <tbody>\n",
       "    <tr>\n",
       "      <th>0</th>\n",
       "      <td>0</td>\n",
       "      <td>100001</td>\n",
       "      <td>WEST</td>\n",
       "      <td>Mountain South</td>\n",
       "      <td>NM</td>\n",
       "      <td>Mixed-Dry</td>\n",
       "      <td>144647.71</td>\n",
       "      <td>2656.89</td>\n",
       "    </tr>\n",
       "    <tr>\n",
       "      <th>1</th>\n",
       "      <td>1</td>\n",
       "      <td>100002</td>\n",
       "      <td>SOUTH</td>\n",
       "      <td>West South Central</td>\n",
       "      <td>AR</td>\n",
       "      <td>Mixed-Humid</td>\n",
       "      <td>28034.61</td>\n",
       "      <td>975.00</td>\n",
       "    </tr>\n",
       "    <tr>\n",
       "      <th>2</th>\n",
       "      <td>2</td>\n",
       "      <td>100003</td>\n",
       "      <td>WEST</td>\n",
       "      <td>Mountain South</td>\n",
       "      <td>NM</td>\n",
       "      <td>Mixed-Dry</td>\n",
       "      <td>30749.71</td>\n",
       "      <td>522.65</td>\n",
       "    </tr>\n",
       "    <tr>\n",
       "      <th>3</th>\n",
       "      <td>3</td>\n",
       "      <td>100004</td>\n",
       "      <td>SOUTH</td>\n",
       "      <td>South Atlantic</td>\n",
       "      <td>SC</td>\n",
       "      <td>Mixed-Humid</td>\n",
       "      <td>86765.19</td>\n",
       "      <td>2061.77</td>\n",
       "    </tr>\n",
       "    <tr>\n",
       "      <th>4</th>\n",
       "      <td>4</td>\n",
       "      <td>100005</td>\n",
       "      <td>NORTHEAST</td>\n",
       "      <td>Middle Atlantic</td>\n",
       "      <td>NJ</td>\n",
       "      <td>Mixed-Humid</td>\n",
       "      <td>59126.93</td>\n",
       "      <td>1463.04</td>\n",
       "    </tr>\n",
       "    <tr>\n",
       "      <th>...</th>\n",
       "      <td>...</td>\n",
       "      <td>...</td>\n",
       "      <td>...</td>\n",
       "      <td>...</td>\n",
       "      <td>...</td>\n",
       "      <td>...</td>\n",
       "      <td>...</td>\n",
       "      <td>...</td>\n",
       "    </tr>\n",
       "    <tr>\n",
       "      <th>18491</th>\n",
       "      <td>18491</td>\n",
       "      <td>118492</td>\n",
       "      <td>SOUTH</td>\n",
       "      <td>South Atlantic</td>\n",
       "      <td>MD</td>\n",
       "      <td>Mixed-Humid</td>\n",
       "      <td>49930.49</td>\n",
       "      <td>1098.51</td>\n",
       "    </tr>\n",
       "    <tr>\n",
       "      <th>18492</th>\n",
       "      <td>18492</td>\n",
       "      <td>118493</td>\n",
       "      <td>NORTHEAST</td>\n",
       "      <td>New England</td>\n",
       "      <td>ME</td>\n",
       "      <td>Very-Cold</td>\n",
       "      <td>222186.04</td>\n",
       "      <td>3613.44</td>\n",
       "    </tr>\n",
       "    <tr>\n",
       "      <th>18493</th>\n",
       "      <td>18493</td>\n",
       "      <td>118494</td>\n",
       "      <td>SOUTH</td>\n",
       "      <td>West South Central</td>\n",
       "      <td>TX</td>\n",
       "      <td>Hot-Humid</td>\n",
       "      <td>51593.72</td>\n",
       "      <td>1428.31</td>\n",
       "    </tr>\n",
       "    <tr>\n",
       "      <th>18494</th>\n",
       "      <td>18494</td>\n",
       "      <td>118495</td>\n",
       "      <td>SOUTH</td>\n",
       "      <td>South Atlantic</td>\n",
       "      <td>SC</td>\n",
       "      <td>Hot-Humid</td>\n",
       "      <td>63555.21</td>\n",
       "      <td>2224.94</td>\n",
       "    </tr>\n",
       "    <tr>\n",
       "      <th>18495</th>\n",
       "      <td>18495</td>\n",
       "      <td>118496</td>\n",
       "      <td>MIDWEST</td>\n",
       "      <td>West North Central</td>\n",
       "      <td>MO</td>\n",
       "      <td>Mixed-Humid</td>\n",
       "      <td>67621.81</td>\n",
       "      <td>1957.28</td>\n",
       "    </tr>\n",
       "  </tbody>\n",
       "</table>\n",
       "<p>18496 rows × 8 columns</p>\n",
       "</div>"
      ],
      "text/plain": [
       "       Unnamed: 0   DOEID    REGIONC            DIVISION state_postal  \\\n",
       "0               0  100001       WEST      Mountain South           NM   \n",
       "1               1  100002      SOUTH  West South Central           AR   \n",
       "2               2  100003       WEST      Mountain South           NM   \n",
       "3               3  100004      SOUTH      South Atlantic           SC   \n",
       "4               4  100005  NORTHEAST     Middle Atlantic           NJ   \n",
       "...           ...     ...        ...                 ...          ...   \n",
       "18491       18491  118492      SOUTH      South Atlantic           MD   \n",
       "18492       18492  118493  NORTHEAST         New England           ME   \n",
       "18493       18493  118494      SOUTH  West South Central           TX   \n",
       "18494       18494  118495      SOUTH      South Atlantic           SC   \n",
       "18495       18495  118496    MIDWEST  West North Central           MO   \n",
       "\n",
       "        BA_climate   TOTALBTU  TOTALDOL  \n",
       "0        Mixed-Dry  144647.71   2656.89  \n",
       "1      Mixed-Humid   28034.61    975.00  \n",
       "2        Mixed-Dry   30749.71    522.65  \n",
       "3      Mixed-Humid   86765.19   2061.77  \n",
       "4      Mixed-Humid   59126.93   1463.04  \n",
       "...            ...        ...       ...  \n",
       "18491  Mixed-Humid   49930.49   1098.51  \n",
       "18492    Very-Cold  222186.04   3613.44  \n",
       "18493    Hot-Humid   51593.72   1428.31  \n",
       "18494    Hot-Humid   63555.21   2224.94  \n",
       "18495  Mixed-Humid   67621.81   1957.28  \n",
       "\n",
       "[18496 rows x 8 columns]"
      ]
     },
     "execution_count": 3,
     "metadata": {},
     "output_type": "execute_result"
    }
   ],
   "source": [
    "# Read in CSV file\n",
    "regional_df = pd.read_csv(\"Table_CSVs/regional.csv\")\n",
    "regional_df"
   ]
  },
  {
   "cell_type": "code",
   "execution_count": 4,
   "metadata": {},
   "outputs": [
    {
     "data": {
      "text/html": [
       "<div>\n",
       "<style scoped>\n",
       "    .dataframe tbody tr th:only-of-type {\n",
       "        vertical-align: middle;\n",
       "    }\n",
       "\n",
       "    .dataframe tbody tr th {\n",
       "        vertical-align: top;\n",
       "    }\n",
       "\n",
       "    .dataframe thead th {\n",
       "        text-align: right;\n",
       "    }\n",
       "</style>\n",
       "<table border=\"1\" class=\"dataframe\">\n",
       "  <thead>\n",
       "    <tr style=\"text-align: right;\">\n",
       "      <th></th>\n",
       "      <th>REGIONC</th>\n",
       "      <th>DIVISION</th>\n",
       "      <th>state_postal</th>\n",
       "      <th>BA_climate</th>\n",
       "      <th>TOTALBTU</th>\n",
       "    </tr>\n",
       "  </thead>\n",
       "  <tbody>\n",
       "    <tr>\n",
       "      <th>0</th>\n",
       "      <td>WEST</td>\n",
       "      <td>Mountain South</td>\n",
       "      <td>NM</td>\n",
       "      <td>Mixed-Dry</td>\n",
       "      <td>144647.71</td>\n",
       "    </tr>\n",
       "    <tr>\n",
       "      <th>1</th>\n",
       "      <td>SOUTH</td>\n",
       "      <td>West South Central</td>\n",
       "      <td>AR</td>\n",
       "      <td>Mixed-Humid</td>\n",
       "      <td>28034.61</td>\n",
       "    </tr>\n",
       "    <tr>\n",
       "      <th>2</th>\n",
       "      <td>WEST</td>\n",
       "      <td>Mountain South</td>\n",
       "      <td>NM</td>\n",
       "      <td>Mixed-Dry</td>\n",
       "      <td>30749.71</td>\n",
       "    </tr>\n",
       "    <tr>\n",
       "      <th>3</th>\n",
       "      <td>SOUTH</td>\n",
       "      <td>South Atlantic</td>\n",
       "      <td>SC</td>\n",
       "      <td>Mixed-Humid</td>\n",
       "      <td>86765.19</td>\n",
       "    </tr>\n",
       "    <tr>\n",
       "      <th>4</th>\n",
       "      <td>NORTHEAST</td>\n",
       "      <td>Middle Atlantic</td>\n",
       "      <td>NJ</td>\n",
       "      <td>Mixed-Humid</td>\n",
       "      <td>59126.93</td>\n",
       "    </tr>\n",
       "  </tbody>\n",
       "</table>\n",
       "</div>"
      ],
      "text/plain": [
       "     REGIONC            DIVISION state_postal   BA_climate   TOTALBTU\n",
       "0       WEST      Mountain South           NM    Mixed-Dry  144647.71\n",
       "1      SOUTH  West South Central           AR  Mixed-Humid   28034.61\n",
       "2       WEST      Mountain South           NM    Mixed-Dry   30749.71\n",
       "3      SOUTH      South Atlantic           SC  Mixed-Humid   86765.19\n",
       "4  NORTHEAST     Middle Atlantic           NJ  Mixed-Humid   59126.93"
      ]
     },
     "execution_count": 4,
     "metadata": {},
     "output_type": "execute_result"
    }
   ],
   "source": [
    "# Create DataFrame with regional information\n",
    "regional_df = regional_df[['REGIONC', 'DIVISION', 'state_postal', 'BA_climate', 'TOTALBTU']]\n",
    "regional_df.head()"
   ]
  },
  {
   "cell_type": "code",
   "execution_count": 5,
   "metadata": {},
   "outputs": [
    {
     "data": {
      "text/plain": [
       "REGIONC         0\n",
       "DIVISION        0\n",
       "state_postal    0\n",
       "BA_climate      0\n",
       "TOTALBTU        0\n",
       "dtype: int64"
      ]
     },
     "execution_count": 5,
     "metadata": {},
     "output_type": "execute_result"
    }
   ],
   "source": [
    "#Checking nulls\n",
    "regional_df.isnull().sum()"
   ]
  },
  {
   "cell_type": "code",
   "execution_count": 6,
   "metadata": {},
   "outputs": [],
   "source": [
    "# Split the data into the feature matrix and the target vector\n",
    "X = regional_df.drop('TOTALBTU', axis=1)\n",
    "y = regional_df['TOTALBTU']"
   ]
  },
  {
   "cell_type": "code",
   "execution_count": 7,
   "metadata": {},
   "outputs": [
    {
     "data": {
      "text/html": [
       "<div>\n",
       "<style scoped>\n",
       "    .dataframe tbody tr th:only-of-type {\n",
       "        vertical-align: middle;\n",
       "    }\n",
       "\n",
       "    .dataframe tbody tr th {\n",
       "        vertical-align: top;\n",
       "    }\n",
       "\n",
       "    .dataframe thead th {\n",
       "        text-align: right;\n",
       "    }\n",
       "</style>\n",
       "<table border=\"1\" class=\"dataframe\">\n",
       "  <thead>\n",
       "    <tr style=\"text-align: right;\">\n",
       "      <th></th>\n",
       "      <th>REGIONC</th>\n",
       "      <th>DIVISION</th>\n",
       "      <th>state_postal</th>\n",
       "      <th>BA_climate</th>\n",
       "    </tr>\n",
       "  </thead>\n",
       "  <tbody>\n",
       "    <tr>\n",
       "      <th>0</th>\n",
       "      <td>WEST</td>\n",
       "      <td>Mountain South</td>\n",
       "      <td>NM</td>\n",
       "      <td>Mixed-Dry</td>\n",
       "    </tr>\n",
       "    <tr>\n",
       "      <th>1</th>\n",
       "      <td>SOUTH</td>\n",
       "      <td>West South Central</td>\n",
       "      <td>AR</td>\n",
       "      <td>Mixed-Humid</td>\n",
       "    </tr>\n",
       "    <tr>\n",
       "      <th>2</th>\n",
       "      <td>WEST</td>\n",
       "      <td>Mountain South</td>\n",
       "      <td>NM</td>\n",
       "      <td>Mixed-Dry</td>\n",
       "    </tr>\n",
       "    <tr>\n",
       "      <th>3</th>\n",
       "      <td>SOUTH</td>\n",
       "      <td>South Atlantic</td>\n",
       "      <td>SC</td>\n",
       "      <td>Mixed-Humid</td>\n",
       "    </tr>\n",
       "    <tr>\n",
       "      <th>4</th>\n",
       "      <td>NORTHEAST</td>\n",
       "      <td>Middle Atlantic</td>\n",
       "      <td>NJ</td>\n",
       "      <td>Mixed-Humid</td>\n",
       "    </tr>\n",
       "  </tbody>\n",
       "</table>\n",
       "</div>"
      ],
      "text/plain": [
       "     REGIONC            DIVISION state_postal   BA_climate\n",
       "0       WEST      Mountain South           NM    Mixed-Dry\n",
       "1      SOUTH  West South Central           AR  Mixed-Humid\n",
       "2       WEST      Mountain South           NM    Mixed-Dry\n",
       "3      SOUTH      South Atlantic           SC  Mixed-Humid\n",
       "4  NORTHEAST     Middle Atlantic           NJ  Mixed-Humid"
      ]
     },
     "execution_count": 7,
     "metadata": {},
     "output_type": "execute_result"
    }
   ],
   "source": [
    "# Preview the features data\n",
    "X.head()"
   ]
  },
  {
   "cell_type": "code",
   "execution_count": 9,
   "metadata": {},
   "outputs": [
    {
     "data": {
      "text/plain": [
       "0    144647.71\n",
       "1     28034.61\n",
       "2     30749.71\n",
       "3     86765.19\n",
       "4     59126.93\n",
       "Name: TOTALBTU, dtype: float64"
      ]
     },
     "execution_count": 9,
     "metadata": {},
     "output_type": "execute_result"
    }
   ],
   "source": [
    "# Preview the first five entries for the target variable\n",
    "y[:5]"
   ]
  },
  {
   "cell_type": "code",
   "execution_count": 13,
   "metadata": {},
   "outputs": [],
   "source": [
    "# Create a list of categorical feature indices\n",
    "cat_features = list(range(X.shape[1])) # all features are categorical"
   ]
  },
  {
   "cell_type": "code",
   "execution_count": 14,
   "metadata": {},
   "outputs": [],
   "source": [
    "# Split the dataset using train_test_split\n",
    "X_train, X_test, y_train, y_test = train_test_split(X, y, test_size=0.2,  random_state=42)"
   ]
  },
  {
   "cell_type": "code",
   "execution_count": 15,
   "metadata": {},
   "outputs": [],
   "source": [
    "# Initialize CatBoostRegressor\n",
    "model = CatBoostRegressor(\n",
    "    iterations=1000,\n",
    "    learning_rate=0.1,\n",
    "    depth=6,\n",
    "    cat_features=cat_features,\n",
    "    loss_function='RMSE',\n",
    "    verbose=200,\n",
    "    random_seed=42\n",
    ")"
   ]
  },
  {
   "cell_type": "code",
   "execution_count": 16,
   "metadata": {},
   "outputs": [
    {
     "name": "stdout",
     "output_type": "stream",
     "text": [
      "0:\tlearn: 53432.9341497\ttotal: 175ms\tremaining: 2m 55s\n",
      "200:\tlearn: 50190.0033311\ttotal: 6.4s\tremaining: 25.4s\n",
      "400:\tlearn: 49805.3311753\ttotal: 12.9s\tremaining: 19.3s\n",
      "600:\tlearn: 49498.4169711\ttotal: 19.3s\tremaining: 12.8s\n",
      "800:\tlearn: 49211.8439213\ttotal: 25.6s\tremaining: 6.35s\n",
      "999:\tlearn: 48990.1598638\ttotal: 31.9s\tremaining: 0us\n"
     ]
    },
    {
     "data": {
      "text/plain": [
       "<catboost.core.CatBoostRegressor at 0x28f0b6af820>"
      ]
     },
     "execution_count": 16,
     "metadata": {},
     "output_type": "execute_result"
    }
   ],
   "source": [
    "# Fit model\n",
    "model.fit(X_train, y_train)"
   ]
  },
  {
   "cell_type": "code",
   "execution_count": 17,
   "metadata": {},
   "outputs": [],
   "source": [
    "# Make predictions\n",
    "y_pred = model.predict(X_test)"
   ]
  },
  {
   "cell_type": "code",
   "execution_count": 18,
   "metadata": {},
   "outputs": [],
   "source": [
    "# Evaluate the model\n",
    "train_r2 = model.score(X_train, y_train)\n",
    "test_r2 = model.score(X_test, y_test)"
   ]
  },
  {
   "cell_type": "code",
   "execution_count": 19,
   "metadata": {},
   "outputs": [
    {
     "name": "stdout",
     "output_type": "stream",
     "text": [
      "Training R-squared: 0.12250990784063331\n",
      "Test R-squared: 0.11186680602851973\n"
     ]
    }
   ],
   "source": [
    "print(\"Training R-squared:\", train_r2)\n",
    "print(\"Test R-squared:\", test_r2)"
   ]
  }
 ],
 "metadata": {
  "kernelspec": {
   "display_name": "dev",
   "language": "python",
   "name": "python3"
  },
  "language_info": {
   "codemirror_mode": {
    "name": "ipython",
    "version": 3
   },
   "file_extension": ".py",
   "mimetype": "text/x-python",
   "name": "python",
   "nbconvert_exporter": "python",
   "pygments_lexer": "ipython3",
   "version": "3.10.13"
  }
 },
 "nbformat": 4,
 "nbformat_minor": 2
}
