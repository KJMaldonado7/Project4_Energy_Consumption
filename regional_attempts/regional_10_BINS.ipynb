{
 "cells": [
  {
   "cell_type": "code",
   "execution_count": 1,
   "metadata": {},
   "outputs": [],
   "source": [
    "import pandas as pd\n",
    "from sklearn.model_selection import train_test_split\n",
    "from sklearn.linear_model import LinearRegression\n",
    "from sklearn.preprocessing import StandardScaler\n",
    "from sklearn.metrics import mean_squared_error, r2_score\n"
   ]
  },
  {
   "cell_type": "code",
   "execution_count": 2,
   "metadata": {},
   "outputs": [
    {
     "data": {
      "text/html": [
       "<div>\n",
       "<style scoped>\n",
       "    .dataframe tbody tr th:only-of-type {\n",
       "        vertical-align: middle;\n",
       "    }\n",
       "\n",
       "    .dataframe tbody tr th {\n",
       "        vertical-align: top;\n",
       "    }\n",
       "\n",
       "    .dataframe thead th {\n",
       "        text-align: right;\n",
       "    }\n",
       "</style>\n",
       "<table border=\"1\" class=\"dataframe\">\n",
       "  <thead>\n",
       "    <tr style=\"text-align: right;\">\n",
       "      <th></th>\n",
       "      <th>DOEID</th>\n",
       "      <th>REGIONC</th>\n",
       "      <th>DIVISION</th>\n",
       "      <th>state_postal</th>\n",
       "      <th>BA_climate</th>\n",
       "      <th>TOTALBTU</th>\n",
       "      <th>TOTALDOL</th>\n",
       "    </tr>\n",
       "  </thead>\n",
       "  <tbody>\n",
       "    <tr>\n",
       "      <th>0</th>\n",
       "      <td>100001</td>\n",
       "      <td>WEST</td>\n",
       "      <td>Mountain South</td>\n",
       "      <td>NM</td>\n",
       "      <td>Mixed-Dry</td>\n",
       "      <td>144647.71</td>\n",
       "      <td>2656.89</td>\n",
       "    </tr>\n",
       "    <tr>\n",
       "      <th>1</th>\n",
       "      <td>100002</td>\n",
       "      <td>SOUTH</td>\n",
       "      <td>West South Central</td>\n",
       "      <td>AR</td>\n",
       "      <td>Mixed-Humid</td>\n",
       "      <td>28034.61</td>\n",
       "      <td>975.00</td>\n",
       "    </tr>\n",
       "    <tr>\n",
       "      <th>2</th>\n",
       "      <td>100003</td>\n",
       "      <td>WEST</td>\n",
       "      <td>Mountain South</td>\n",
       "      <td>NM</td>\n",
       "      <td>Mixed-Dry</td>\n",
       "      <td>30749.71</td>\n",
       "      <td>522.65</td>\n",
       "    </tr>\n",
       "    <tr>\n",
       "      <th>3</th>\n",
       "      <td>100004</td>\n",
       "      <td>SOUTH</td>\n",
       "      <td>South Atlantic</td>\n",
       "      <td>SC</td>\n",
       "      <td>Mixed-Humid</td>\n",
       "      <td>86765.19</td>\n",
       "      <td>2061.77</td>\n",
       "    </tr>\n",
       "    <tr>\n",
       "      <th>4</th>\n",
       "      <td>100005</td>\n",
       "      <td>NORTHEAST</td>\n",
       "      <td>Middle Atlantic</td>\n",
       "      <td>NJ</td>\n",
       "      <td>Mixed-Humid</td>\n",
       "      <td>59126.93</td>\n",
       "      <td>1463.04</td>\n",
       "    </tr>\n",
       "    <tr>\n",
       "      <th>...</th>\n",
       "      <td>...</td>\n",
       "      <td>...</td>\n",
       "      <td>...</td>\n",
       "      <td>...</td>\n",
       "      <td>...</td>\n",
       "      <td>...</td>\n",
       "      <td>...</td>\n",
       "    </tr>\n",
       "    <tr>\n",
       "      <th>18491</th>\n",
       "      <td>118492</td>\n",
       "      <td>SOUTH</td>\n",
       "      <td>South Atlantic</td>\n",
       "      <td>MD</td>\n",
       "      <td>Mixed-Humid</td>\n",
       "      <td>49930.49</td>\n",
       "      <td>1098.51</td>\n",
       "    </tr>\n",
       "    <tr>\n",
       "      <th>18492</th>\n",
       "      <td>118493</td>\n",
       "      <td>NORTHEAST</td>\n",
       "      <td>New England</td>\n",
       "      <td>ME</td>\n",
       "      <td>Very-Cold</td>\n",
       "      <td>222186.04</td>\n",
       "      <td>3613.44</td>\n",
       "    </tr>\n",
       "    <tr>\n",
       "      <th>18493</th>\n",
       "      <td>118494</td>\n",
       "      <td>SOUTH</td>\n",
       "      <td>West South Central</td>\n",
       "      <td>TX</td>\n",
       "      <td>Hot-Humid</td>\n",
       "      <td>51593.72</td>\n",
       "      <td>1428.31</td>\n",
       "    </tr>\n",
       "    <tr>\n",
       "      <th>18494</th>\n",
       "      <td>118495</td>\n",
       "      <td>SOUTH</td>\n",
       "      <td>South Atlantic</td>\n",
       "      <td>SC</td>\n",
       "      <td>Hot-Humid</td>\n",
       "      <td>63555.21</td>\n",
       "      <td>2224.94</td>\n",
       "    </tr>\n",
       "    <tr>\n",
       "      <th>18495</th>\n",
       "      <td>118496</td>\n",
       "      <td>MIDWEST</td>\n",
       "      <td>West North Central</td>\n",
       "      <td>MO</td>\n",
       "      <td>Mixed-Humid</td>\n",
       "      <td>67621.81</td>\n",
       "      <td>1957.28</td>\n",
       "    </tr>\n",
       "  </tbody>\n",
       "</table>\n",
       "<p>18496 rows × 7 columns</p>\n",
       "</div>"
      ],
      "text/plain": [
       "        DOEID    REGIONC            DIVISION state_postal   BA_climate  \\\n",
       "0      100001       WEST      Mountain South           NM    Mixed-Dry   \n",
       "1      100002      SOUTH  West South Central           AR  Mixed-Humid   \n",
       "2      100003       WEST      Mountain South           NM    Mixed-Dry   \n",
       "3      100004      SOUTH      South Atlantic           SC  Mixed-Humid   \n",
       "4      100005  NORTHEAST     Middle Atlantic           NJ  Mixed-Humid   \n",
       "...       ...        ...                 ...          ...          ...   \n",
       "18491  118492      SOUTH      South Atlantic           MD  Mixed-Humid   \n",
       "18492  118493  NORTHEAST         New England           ME    Very-Cold   \n",
       "18493  118494      SOUTH  West South Central           TX    Hot-Humid   \n",
       "18494  118495      SOUTH      South Atlantic           SC    Hot-Humid   \n",
       "18495  118496    MIDWEST  West North Central           MO  Mixed-Humid   \n",
       "\n",
       "        TOTALBTU  TOTALDOL  \n",
       "0      144647.71   2656.89  \n",
       "1       28034.61    975.00  \n",
       "2       30749.71    522.65  \n",
       "3       86765.19   2061.77  \n",
       "4       59126.93   1463.04  \n",
       "...          ...       ...  \n",
       "18491   49930.49   1098.51  \n",
       "18492  222186.04   3613.44  \n",
       "18493   51593.72   1428.31  \n",
       "18494   63555.21   2224.94  \n",
       "18495   67621.81   1957.28  \n",
       "\n",
       "[18496 rows x 7 columns]"
      ]
     },
     "execution_count": 2,
     "metadata": {},
     "output_type": "execute_result"
    }
   ],
   "source": [
    "# Read in CSV file\n",
    "regional_df = pd.read_csv(\"Table_CSVs/regional.csv\")\n",
    "regional_df"
   ]
  },
  {
   "cell_type": "code",
   "execution_count": 3,
   "metadata": {},
   "outputs": [
    {
     "data": {
      "text/html": [
       "<div>\n",
       "<style scoped>\n",
       "    .dataframe tbody tr th:only-of-type {\n",
       "        vertical-align: middle;\n",
       "    }\n",
       "\n",
       "    .dataframe tbody tr th {\n",
       "        vertical-align: top;\n",
       "    }\n",
       "\n",
       "    .dataframe thead th {\n",
       "        text-align: right;\n",
       "    }\n",
       "</style>\n",
       "<table border=\"1\" class=\"dataframe\">\n",
       "  <thead>\n",
       "    <tr style=\"text-align: right;\">\n",
       "      <th></th>\n",
       "      <th>REGIONC</th>\n",
       "      <th>DIVISION</th>\n",
       "      <th>state_postal</th>\n",
       "      <th>BA_climate</th>\n",
       "      <th>TOTALBTU</th>\n",
       "    </tr>\n",
       "  </thead>\n",
       "  <tbody>\n",
       "    <tr>\n",
       "      <th>0</th>\n",
       "      <td>WEST</td>\n",
       "      <td>Mountain South</td>\n",
       "      <td>NM</td>\n",
       "      <td>Mixed-Dry</td>\n",
       "      <td>144647.71</td>\n",
       "    </tr>\n",
       "    <tr>\n",
       "      <th>1</th>\n",
       "      <td>SOUTH</td>\n",
       "      <td>West South Central</td>\n",
       "      <td>AR</td>\n",
       "      <td>Mixed-Humid</td>\n",
       "      <td>28034.61</td>\n",
       "    </tr>\n",
       "    <tr>\n",
       "      <th>2</th>\n",
       "      <td>WEST</td>\n",
       "      <td>Mountain South</td>\n",
       "      <td>NM</td>\n",
       "      <td>Mixed-Dry</td>\n",
       "      <td>30749.71</td>\n",
       "    </tr>\n",
       "    <tr>\n",
       "      <th>3</th>\n",
       "      <td>SOUTH</td>\n",
       "      <td>South Atlantic</td>\n",
       "      <td>SC</td>\n",
       "      <td>Mixed-Humid</td>\n",
       "      <td>86765.19</td>\n",
       "    </tr>\n",
       "    <tr>\n",
       "      <th>4</th>\n",
       "      <td>NORTHEAST</td>\n",
       "      <td>Middle Atlantic</td>\n",
       "      <td>NJ</td>\n",
       "      <td>Mixed-Humid</td>\n",
       "      <td>59126.93</td>\n",
       "    </tr>\n",
       "  </tbody>\n",
       "</table>\n",
       "</div>"
      ],
      "text/plain": [
       "     REGIONC            DIVISION state_postal   BA_climate   TOTALBTU\n",
       "0       WEST      Mountain South           NM    Mixed-Dry  144647.71\n",
       "1      SOUTH  West South Central           AR  Mixed-Humid   28034.61\n",
       "2       WEST      Mountain South           NM    Mixed-Dry   30749.71\n",
       "3      SOUTH      South Atlantic           SC  Mixed-Humid   86765.19\n",
       "4  NORTHEAST     Middle Atlantic           NJ  Mixed-Humid   59126.93"
      ]
     },
     "execution_count": 3,
     "metadata": {},
     "output_type": "execute_result"
    }
   ],
   "source": [
    "# Create DataFrame with regional information\n",
    "regional_df = regional_df.drop(columns=['DOEID', 'TOTALDOL'])\n",
    "regional_df.head()"
   ]
  },
  {
   "cell_type": "code",
   "execution_count": 4,
   "metadata": {},
   "outputs": [
    {
     "data": {
      "text/plain": [
       "REGIONC         0\n",
       "DIVISION        0\n",
       "state_postal    0\n",
       "BA_climate      0\n",
       "TOTALBTU        0\n",
       "dtype: int64"
      ]
     },
     "execution_count": 4,
     "metadata": {},
     "output_type": "execute_result"
    }
   ],
   "source": [
    "#Checking nulls\n",
    "regional_df.isnull().sum()"
   ]
  },
  {
   "cell_type": "code",
   "execution_count": 5,
   "metadata": {},
   "outputs": [],
   "source": [
    "# Define a function to perform binning on TOTALBTU column\n",
    "def bin_total_btu(total_btu):\n",
    "    if total_btu < 55000:\n",
    "        return 'Low'\n",
    "    elif total_btu >= 55000 and total_btu < 95000:\n",
    "        return 'Medium'\n",
    "    else:\n",
    "        return 'High'"
   ]
  },
  {
   "cell_type": "code",
   "execution_count": 7,
   "metadata": {},
   "outputs": [],
   "source": [
    "# Apply binning function to create a new column 'BTU_Bin'\n",
    "regional_df['BTU_Bin'] = regional_df['TOTALBTU'].apply(bin_total_btu)"
   ]
  },
  {
   "cell_type": "code",
   "execution_count": 8,
   "metadata": {},
   "outputs": [],
   "source": [
    "# Check the balance of bins\n",
    "bin_counts = regional_df['BTU_Bin'].value_counts()"
   ]
  },
  {
   "cell_type": "code",
   "execution_count": 9,
   "metadata": {},
   "outputs": [
    {
     "name": "stdout",
     "output_type": "stream",
     "text": [
      "Counts of samples in each bin:\n",
      "BTU_Bin\n",
      "High      6240\n",
      "Low       6194\n",
      "Medium    6062\n",
      "Name: count, dtype: int64\n"
     ]
    }
   ],
   "source": [
    "# Display the counts of samples in each bin\n",
    "print(\"Counts of samples in each bin:\")\n",
    "print(bin_counts)"
   ]
  },
  {
   "cell_type": "code",
   "execution_count": 10,
   "metadata": {},
   "outputs": [],
   "source": [
    "# Perform one-hot encoding on the 'BTU_Bin' column\n",
    "X_encoded = pd.get_dummies(regional_df.drop(['TOTALBTU'], axis=1), drop_first=True)\n",
    "y = regional_df['TOTALBTU']"
   ]
  },
  {
   "cell_type": "code",
   "execution_count": 21,
   "metadata": {},
   "outputs": [],
   "source": [
    "# Split data into training and testing sets\n",
    "X_train, X_test, y_train, y_test = train_test_split(X_encoded, y, test_size=0.05, random_state=42)"
   ]
  },
  {
   "cell_type": "code",
   "execution_count": 22,
   "metadata": {},
   "outputs": [],
   "source": [
    "# Create a StandardScaler instances\n",
    "scaler = StandardScaler()\n",
    "\n",
    "# Fit the StandardScaler\n",
    "X_scaler = scaler.fit(X_train)\n",
    "\n",
    "# Scale the data\n",
    "X_train_scaled = X_scaler.transform(X_train)\n",
    "X_test_scaled = X_scaler.transform(X_test)"
   ]
  },
  {
   "cell_type": "code",
   "execution_count": 23,
   "metadata": {},
   "outputs": [
    {
     "name": "stdout",
     "output_type": "stream",
     "text": [
      "Mean Squared Error (MSE): 567474693.1939898\n",
      "R-squared (R2): 0.7529492375445945\n"
     ]
    }
   ],
   "source": [
    "# Initialize the Linear Regression model\n",
    "lr_model = LinearRegression()\n",
    "\n",
    "# Train the model\n",
    "lr_model.fit(X_train_scaled, y_train)\n",
    "\n",
    "# Make predictions on the test set\n",
    "y_pred = lr_model.predict(X_test_scaled)\n",
    "\n",
    "# Evaluate model performance\n",
    "mse = mean_squared_error(y_test, y_pred)\n",
    "r2 = r2_score(y_test, y_pred)\n",
    "\n",
    "print(f\"Mean Squared Error (MSE): {mse}\")\n",
    "print(f\"R-squared (R2): {r2}\")"
   ]
  }
 ],
 "metadata": {
  "kernelspec": {
   "display_name": "dev",
   "language": "python",
   "name": "python3"
  },
  "language_info": {
   "codemirror_mode": {
    "name": "ipython",
    "version": 3
   },
   "file_extension": ".py",
   "mimetype": "text/x-python",
   "name": "python",
   "nbconvert_exporter": "python",
   "pygments_lexer": "ipython3",
   "version": "3.10.13"
  }
 },
 "nbformat": 4,
 "nbformat_minor": 2
}
