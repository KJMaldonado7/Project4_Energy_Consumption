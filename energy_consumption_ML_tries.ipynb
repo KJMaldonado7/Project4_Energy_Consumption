{
 "cells": [
  {
   "cell_type": "markdown",
   "id": "df2376f0",
   "metadata": {},
   "source": [
    "# Random Forrest Regressor Model"
   ]
  },
  {
   "cell_type": "code",
   "execution_count": 2,
   "id": "286dfce0",
   "metadata": {},
   "outputs": [
    {
     "name": "stdout",
     "output_type": "stream",
     "text": [
      "Mean Squared Error (MSE): 1080329681.9631333\n",
      "R-squared (R2): 0.5760602548867669\n"
     ]
    }
   ],
   "source": [
    "import pandas as pd\n",
    "from sklearn.model_selection import train_test_split\n",
    "from sklearn.ensemble import RandomForestRegressor\n",
    "from sklearn.metrics import mean_squared_error, r2_score\n",
    "\n",
    "# Load the dataset\n",
    "data_path = 'Table_CSVs/energy_efficient.csv'\n",
    "data = pd.read_csv(data_path)\n",
    "\n",
    "# Split the dataset into features (X) and target variable (y)\n",
    "X = data.drop(columns=['TOTALBTU'])  # Adjust 'TARGET_COLUMN' to your target variable\n",
    "y = data['TOTALBTU']\n",
    "\n",
    "# Split the data into training and testing sets\n",
    "X_train, X_test, y_train, y_test = train_test_split(X, y, test_size=0.2, random_state=42)\n",
    "\n",
    "# Initialize and train the Random Forest Regressor model\n",
    "rf_model = RandomForestRegressor(n_estimators=100, random_state=42)\n",
    "rf_model.fit(X_train, y_train)\n",
    "\n",
    "# Make predictions on the test set\n",
    "y_pred = rf_model.predict(X_test)\n",
    "\n",
    "# Evaluate the model\n",
    "mse = mean_squared_error(y_test, y_pred)\n",
    "r2 = r2_score(y_test, y_pred)\n",
    "\n",
    "print(f'Mean Squared Error (MSE): {mse}')\n",
    "print(f'R-squared (R2): {r2}')\n",
    "\n"
   ]
  },
  {
   "cell_type": "markdown",
   "id": "89bedb90",
   "metadata": {},
   "source": [
    "# Random Forrest Regressor Model Redo"
   ]
  },
  {
   "cell_type": "code",
   "execution_count": 3,
   "id": "baad9736",
   "metadata": {},
   "outputs": [
    {
     "name": "stdout",
     "output_type": "stream",
     "text": [
      "Mean Squared Error (MSE): 1077387604.883598\n",
      "R-squared (R2): 0.5772147759816009\n"
     ]
    }
   ],
   "source": [
    "import pandas as pd\n",
    "from sklearn.model_selection import train_test_split\n",
    "from sklearn.ensemble import RandomForestRegressor\n",
    "from sklearn.metrics import mean_squared_error, r2_score\n",
    "\n",
    "# Load the dataset\n",
    "data_path = 'C:/Users/Joanna/Project4_Energy_Consumption/Table_CSVs/energy_efficient.csv'\n",
    "data = pd.read_csv(data_path)\n",
    "\n",
    "# Split the dataset into features (X) and target variable (y)\n",
    "X = data.drop(columns=['TOTALBTU'])  # Adjust 'TARGET_COLUMN' to your target variable\n",
    "y = data['TOTALBTU']\n",
    "\n",
    "# Split the data into training and testing sets\n",
    "X_train, X_test, y_train, y_test = train_test_split(X, y, test_size=0.2, random_state=42)\n",
    "\n",
    "# Initialize and train the Random Forest Regressor model\n",
    "rf_model = RandomForestRegressor(n_estimators=110, random_state=42)\n",
    "rf_model.fit(X_train, y_train)\n",
    "\n",
    "# Make predictions on the test set\n",
    "y_pred = rf_model.predict(X_test)\n",
    "\n",
    "# Evaluate the model\n",
    "mse = mean_squared_error(y_test, y_pred)\n",
    "r2 = r2_score(y_test, y_pred)\n",
    "\n",
    "print(f'Mean Squared Error (MSE): {mse}')\n",
    "print(f'R-squared (R2): {r2}')\n"
   ]
  },
  {
   "cell_type": "markdown",
   "id": "e89edb58",
   "metadata": {},
   "source": [
    "# Linear Regressor Model"
   ]
  },
  {
   "cell_type": "code",
   "execution_count": 9,
   "id": "825785c4",
   "metadata": {},
   "outputs": [
    {
     "name": "stdout",
     "output_type": "stream",
     "text": [
      "Mean Squared Error (MSE): 1020605771.544824\n",
      "R-squared (R2): 0.5994969333217187\n"
     ]
    }
   ],
   "source": [
    "import pandas as pd\n",
    "from sklearn.model_selection import train_test_split\n",
    "from sklearn.linear_model import LinearRegression\n",
    "from sklearn.metrics import mean_squared_error, r2_score\n",
    "\n",
    "# Load your dataset\n",
    "data_path = r'C:\\Users\\Joanna\\Project4_Energy_Consumption\\Table_CSVs\\energy_efficient.csv'\n",
    "energy_consumption_df = pd.read_csv(data_path)\n",
    "\n",
    "# Drop any rows with missing values\n",
    "energy_consumption_df.dropna(inplace=True)\n",
    "\n",
    "# Split data into features (X) and target variable \"TOTALBTU\" (y)\n",
    "X = energy_consumption_df.drop(['TOTALBTU'], axis=1)\n",
    "y = energy_consumption_df['TOTALBTU']\n",
    "\n",
    "# Split data into training and testing sets\n",
    "X_train, X_test, y_train, y_test = train_test_split(X, y, test_size=0.2, random_state=42)\n",
    "\n",
    "# Initialize the Linear Regression model\n",
    "lr_model = LinearRegression()\n",
    "\n",
    "# Train the model\n",
    "lr_model.fit(X_train, y_train)\n",
    "\n",
    "# Make predictions on the test set\n",
    "y_pred = lr_model.predict(X_test)\n",
    "\n",
    "# Evaluate model performance\n",
    "mse = mean_squared_error(y_test, y_pred)\n",
    "r2 = r2_score(y_test, y_pred)\n",
    "\n",
    "print(f\"Mean Squared Error (MSE): {mse}\")\n",
    "print(f\"R-squared (R2): {r2}\")\n",
    "\n"
   ]
  },
  {
   "cell_type": "markdown",
   "id": "ce62607f",
   "metadata": {},
   "source": [
    "# Linear Regressor Model Updated"
   ]
  },
  {
   "cell_type": "code",
   "execution_count": 10,
   "id": "eb54b3ab",
   "metadata": {},
   "outputs": [
    {
     "name": "stdout",
     "output_type": "stream",
     "text": [
      "Mean Squared Error (MSE): 867655446.6451124\n",
      "R-squared (R2): 0.6994187472726883\n"
     ]
    }
   ],
   "source": [
    "import pandas as pd\n",
    "from sklearn.model_selection import train_test_split\n",
    "from sklearn.linear_model import LinearRegression\n",
    "from sklearn.preprocessing import StandardScaler\n",
    "from sklearn.metrics import mean_squared_error, r2_score\n",
    "\n",
    "# Load your dataset\n",
    "data_path = r'Table_CSVs\\energy_efficient.csv'\n",
    "energy_consumption_df = pd.read_csv(data_path)\n",
    "\n",
    "# Drop any rows with missing values\n",
    "energy_consumption_df.dropna(inplace=True)\n",
    "\n",
    "# Drop the 'DOEID' column and update the DataFrame\n",
    "energy_consumption_df.drop('DOEID', axis=1, inplace=True)\n",
    "\n",
    "import pandas as pd\n",
    "\n",
    "# Assuming df is your DataFrame containing the energy data\n",
    "# Define a function to categorize TOTALBTU and TOTALDOL\n",
    "def categorize_total(row):\n",
    "    # Adjust the conditions based on your criteria for each category\n",
    "    if row['TOTALBTU'] > 50000 and row['TOTALDOL'] > 1000:\n",
    "        return 1  # Category 1\n",
    "    else:\n",
    "        return 2  # Category 2\n",
    "\n",
    "# Apply the categorization function to create separate columns for each category\n",
    "energy_consumption_df['BTU_Category'] = energy_consumption_df.apply(lambda row: 1 if row['TOTALBTU'] > 50000 else 2, axis=1)\n",
    "energy_consumption_df['DOL_Category'] = energy_consumption_df.apply(lambda row: 1 if row['TOTALDOL'] > 1000 else 2, axis=1)\n",
    "\n",
    "# Split data into features (X) and target variable \"TOTALBTU\" (y)\n",
    "X = energy_consumption_df.drop(['TOTALBTU'], axis=1)\n",
    "y = energy_consumption_df['TOTALBTU']\n",
    "\n",
    "# Split data into training and testing sets\n",
    "X_train, X_test, y_train, y_test = train_test_split(X, y, test_size=.1, random_state=45)\n",
    "\n",
    "# Feature Scaling\n",
    "scaler = StandardScaler()\n",
    "X_train_scaled = scaler.fit_transform(X_train)\n",
    "X_test_scaled = scaler.transform(X_test)\n",
    "\n",
    "# Initialize the Linear Regression model\n",
    "lr_model = LinearRegression()\n",
    "\n",
    "# Train the model\n",
    "lr_model.fit(X_train_scaled, y_train)\n",
    "\n",
    "# Make predictions on the test set\n",
    "y_pred = lr_model.predict(X_test_scaled)\n",
    "\n",
    "# Evaluate model performance\n",
    "mse = mean_squared_error(y_test, y_pred)\n",
    "r2 = r2_score(y_test, y_pred)\n",
    "\n",
    "print(f\"Mean Squared Error (MSE): {mse}\")\n",
    "print(f\"R-squared (R2): {r2}\")"
   ]
  }
 ],
 "metadata": {
  "kernelspec": {
   "display_name": "Python 3 (ipykernel)",
   "language": "python",
   "name": "python3"
  },
  "language_info": {
   "codemirror_mode": {
    "name": "ipython",
    "version": 3
   },
   "file_extension": ".py",
   "mimetype": "text/x-python",
   "name": "python",
   "nbconvert_exporter": "python",
   "pygments_lexer": "ipython3",
   "version": "3.11.5"
  }
 },
 "nbformat": 4,
 "nbformat_minor": 5
}
