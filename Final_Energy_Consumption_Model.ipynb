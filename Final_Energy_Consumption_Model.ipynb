{
 "cells": [
  {
   "cell_type": "code",
   "execution_count": 1,
   "id": "86ae3acc",
   "metadata": {},
   "outputs": [
    {
     "name": "stderr",
     "output_type": "stream",
     "text": [
      "C:\\Users\\Joanna\\anaconda3\\envs\\my_python\\Lib\\site-packages\\pandas\\core\\arrays\\masked.py:60: UserWarning: Pandas requires version '1.3.6' or newer of 'bottleneck' (version '1.3.5' currently installed).\n",
      "  from pandas.core import (\n"
     ]
    }
   ],
   "source": [
    "# Import Modules\n",
    "import pandas as pd\n",
    "from sqlalchemy import create_engine\n",
    "from urllib.parse import quote_plus\n",
    "from sklearn.model_selection import train_test_split\n",
    "from sklearn.linear_model import LinearRegression\n",
    "from sklearn.preprocessing import StandardScaler\n",
    "from sklearn.metrics import mean_squared_error, r2_score\n",
    "\n"
   ]
  },
  {
   "cell_type": "code",
   "execution_count": 2,
   "id": "057baae4",
   "metadata": {},
   "outputs": [
    {
     "data": {
      "text/plain": [
       "<sqlalchemy.engine.base.Connection at 0x1f5022f2a10>"
      ]
     },
     "execution_count": 2,
     "metadata": {},
     "output_type": "execute_result"
    }
   ],
   "source": [
    "# SQLAlchemy connectable\n",
    "# DEFAULT engine = create_engine(\"postgresql://USERNAME:%s@HOST/mydatabase\" % quote_plus(\"Password\"))\n",
    "engine = create_engine(\"postgresql://postgres:%s@localhost/Energy_Output_Expenses\"% quote_plus(\"Password\"\"))\n",
    "engine.connect()\n"
   ]
  },
  {
   "cell_type": "code",
   "execution_count": 3,
   "id": "c3f8170a",
   "metadata": {
    "scrolled": true
   },
   "outputs": [
    {
     "data": {
      "text/html": [
       "<div>\n",
       "<style scoped>\n",
       "    .dataframe tbody tr th:only-of-type {\n",
       "        vertical-align: middle;\n",
       "    }\n",
       "\n",
       "    .dataframe tbody tr th {\n",
       "        vertical-align: top;\n",
       "    }\n",
       "\n",
       "    .dataframe thead th {\n",
       "        text-align: right;\n",
       "    }\n",
       "</style>\n",
       "<table border=\"1\" class=\"dataframe\">\n",
       "  <thead>\n",
       "    <tr style=\"text-align: right;\">\n",
       "      <th></th>\n",
       "      <th>doeid</th>\n",
       "      <th>dwcycle</th>\n",
       "      <th>tvtype1</th>\n",
       "      <th>typetherm</th>\n",
       "      <th>lgtinled</th>\n",
       "      <th>smartmeter</th>\n",
       "      <th>solar</th>\n",
       "      <th>elecveh</th>\n",
       "      <th>totalbtu</th>\n",
       "      <th>totaldol</th>\n",
       "    </tr>\n",
       "  </thead>\n",
       "  <tbody>\n",
       "    <tr>\n",
       "      <th>0</th>\n",
       "      <td>100001</td>\n",
       "      <td>2</td>\n",
       "      <td>1</td>\n",
       "      <td>1</td>\n",
       "      <td>2</td>\n",
       "      <td>0</td>\n",
       "      <td>0</td>\n",
       "      <td>0</td>\n",
       "      <td>144647.71</td>\n",
       "      <td>2656.89</td>\n",
       "    </tr>\n",
       "    <tr>\n",
       "      <th>1</th>\n",
       "      <td>100002</td>\n",
       "      <td>2</td>\n",
       "      <td>1</td>\n",
       "      <td>1</td>\n",
       "      <td>2</td>\n",
       "      <td>0</td>\n",
       "      <td>-2</td>\n",
       "      <td>0</td>\n",
       "      <td>28034.61</td>\n",
       "      <td>975.00</td>\n",
       "    </tr>\n",
       "    <tr>\n",
       "      <th>2</th>\n",
       "      <td>100003</td>\n",
       "      <td>2</td>\n",
       "      <td>2</td>\n",
       "      <td>1</td>\n",
       "      <td>0</td>\n",
       "      <td>0</td>\n",
       "      <td>-2</td>\n",
       "      <td>0</td>\n",
       "      <td>30749.71</td>\n",
       "      <td>522.65</td>\n",
       "    </tr>\n",
       "    <tr>\n",
       "      <th>3</th>\n",
       "      <td>100004</td>\n",
       "      <td>1</td>\n",
       "      <td>2</td>\n",
       "      <td>1</td>\n",
       "      <td>4</td>\n",
       "      <td>1</td>\n",
       "      <td>0</td>\n",
       "      <td>0</td>\n",
       "      <td>86765.19</td>\n",
       "      <td>2061.77</td>\n",
       "    </tr>\n",
       "    <tr>\n",
       "      <th>4</th>\n",
       "      <td>100005</td>\n",
       "      <td>2</td>\n",
       "      <td>1</td>\n",
       "      <td>2</td>\n",
       "      <td>3</td>\n",
       "      <td>-4</td>\n",
       "      <td>-2</td>\n",
       "      <td>0</td>\n",
       "      <td>59126.93</td>\n",
       "      <td>1463.04</td>\n",
       "    </tr>\n",
       "  </tbody>\n",
       "</table>\n",
       "</div>"
      ],
      "text/plain": [
       "    doeid  dwcycle  tvtype1  typetherm  lgtinled  smartmeter  solar  elecveh  \\\n",
       "0  100001        2        1          1         2           0      0        0   \n",
       "1  100002        2        1          1         2           0     -2        0   \n",
       "2  100003        2        2          1         0           0     -2        0   \n",
       "3  100004        1        2          1         4           1      0        0   \n",
       "4  100005        2        1          2         3          -4     -2        0   \n",
       "\n",
       "    totalbtu  totaldol  \n",
       "0  144647.71   2656.89  \n",
       "1   28034.61    975.00  \n",
       "2   30749.71    522.65  \n",
       "3   86765.19   2061.77  \n",
       "4   59126.93   1463.04  "
      ]
     },
     "execution_count": 3,
     "metadata": {},
     "output_type": "execute_result"
    }
   ],
   "source": [
    "energy_consumption_df = pd.read_sql_table('energy_efficient',engine)\n",
    "energy_consumption_df.head()"
   ]
  },
  {
   "cell_type": "code",
   "execution_count": 4,
   "id": "f8a4555a",
   "metadata": {
    "scrolled": true
   },
   "outputs": [
    {
     "name": "stdout",
     "output_type": "stream",
     "text": [
      "Index(['doeid', 'dwcycle', 'tvtype1', 'typetherm', 'lgtinled', 'smartmeter',\n",
      "       'solar', 'elecveh', 'totalbtu', 'totaldol'],\n",
      "      dtype='object')\n",
      "doeid column dropped successfully.\n",
      "(18496, 9)\n"
     ]
    }
   ],
   "source": [
    "import pandas as pd\n",
    "\n",
    "# Assuming energy_consumption_df is your DataFrame containing the energy data\n",
    "# Check the column names in your DataFrame\n",
    "print(energy_consumption_df.columns)\n",
    "\n",
    "# Drop any rows with missing values\n",
    "energy_consumption_df.dropna(inplace=True)\n",
    "\n",
    "# Drop the correct column \n",
    "column_to_drop = 'doeid'\n",
    "if column_to_drop in energy_consumption_df.columns:\n",
    "    energy_consumption_df.drop(column_to_drop, axis=1, inplace=True)\n",
    "    print(f\"{column_to_drop} column dropped successfully.\")\n",
    "else:\n",
    "    print(f\"Column {column_to_drop} not found in the DataFrame.\")\n",
    "\n",
    "# Print the updated DataFrame shape to confirm changes\n",
    "print(energy_consumption_df.shape)\n"
   ]
  },
  {
   "cell_type": "code",
   "execution_count": 5,
   "id": "7658073f",
   "metadata": {},
   "outputs": [
    {
     "data": {
      "text/html": [
       "<div>\n",
       "<style scoped>\n",
       "    .dataframe tbody tr th:only-of-type {\n",
       "        vertical-align: middle;\n",
       "    }\n",
       "\n",
       "    .dataframe tbody tr th {\n",
       "        vertical-align: top;\n",
       "    }\n",
       "\n",
       "    .dataframe thead th {\n",
       "        text-align: right;\n",
       "    }\n",
       "</style>\n",
       "<table border=\"1\" class=\"dataframe\">\n",
       "  <thead>\n",
       "    <tr style=\"text-align: right;\">\n",
       "      <th></th>\n",
       "      <th>dwcycle</th>\n",
       "      <th>tvtype1</th>\n",
       "      <th>typetherm</th>\n",
       "      <th>lgtinled</th>\n",
       "      <th>smartmeter</th>\n",
       "      <th>solar</th>\n",
       "      <th>elecveh</th>\n",
       "      <th>totalbtu</th>\n",
       "      <th>totaldol</th>\n",
       "    </tr>\n",
       "  </thead>\n",
       "  <tbody>\n",
       "    <tr>\n",
       "      <th>0</th>\n",
       "      <td>2</td>\n",
       "      <td>1</td>\n",
       "      <td>1</td>\n",
       "      <td>2</td>\n",
       "      <td>0</td>\n",
       "      <td>0</td>\n",
       "      <td>0</td>\n",
       "      <td>144647.71</td>\n",
       "      <td>2656.89</td>\n",
       "    </tr>\n",
       "    <tr>\n",
       "      <th>1</th>\n",
       "      <td>2</td>\n",
       "      <td>1</td>\n",
       "      <td>1</td>\n",
       "      <td>2</td>\n",
       "      <td>0</td>\n",
       "      <td>-2</td>\n",
       "      <td>0</td>\n",
       "      <td>28034.61</td>\n",
       "      <td>975.00</td>\n",
       "    </tr>\n",
       "    <tr>\n",
       "      <th>2</th>\n",
       "      <td>2</td>\n",
       "      <td>2</td>\n",
       "      <td>1</td>\n",
       "      <td>0</td>\n",
       "      <td>0</td>\n",
       "      <td>-2</td>\n",
       "      <td>0</td>\n",
       "      <td>30749.71</td>\n",
       "      <td>522.65</td>\n",
       "    </tr>\n",
       "    <tr>\n",
       "      <th>3</th>\n",
       "      <td>1</td>\n",
       "      <td>2</td>\n",
       "      <td>1</td>\n",
       "      <td>4</td>\n",
       "      <td>1</td>\n",
       "      <td>0</td>\n",
       "      <td>0</td>\n",
       "      <td>86765.19</td>\n",
       "      <td>2061.77</td>\n",
       "    </tr>\n",
       "    <tr>\n",
       "      <th>4</th>\n",
       "      <td>2</td>\n",
       "      <td>1</td>\n",
       "      <td>2</td>\n",
       "      <td>3</td>\n",
       "      <td>-4</td>\n",
       "      <td>-2</td>\n",
       "      <td>0</td>\n",
       "      <td>59126.93</td>\n",
       "      <td>1463.04</td>\n",
       "    </tr>\n",
       "  </tbody>\n",
       "</table>\n",
       "</div>"
      ],
      "text/plain": [
       "   dwcycle  tvtype1  typetherm  lgtinled  smartmeter  solar  elecveh  \\\n",
       "0        2        1          1         2           0      0        0   \n",
       "1        2        1          1         2           0     -2        0   \n",
       "2        2        2          1         0           0     -2        0   \n",
       "3        1        2          1         4           1      0        0   \n",
       "4        2        1          2         3          -4     -2        0   \n",
       "\n",
       "    totalbtu  totaldol  \n",
       "0  144647.71   2656.89  \n",
       "1   28034.61    975.00  \n",
       "2   30749.71    522.65  \n",
       "3   86765.19   2061.77  \n",
       "4   59126.93   1463.04  "
      ]
     },
     "execution_count": 5,
     "metadata": {},
     "output_type": "execute_result"
    }
   ],
   "source": [
    "energy_consumption_df.head()"
   ]
  },
  {
   "cell_type": "code",
   "execution_count": 6,
   "id": "d66b5c78",
   "metadata": {},
   "outputs": [
    {
     "data": {
      "text/plain": [
       "dwcycle       0\n",
       "tvtype1       0\n",
       "typetherm     0\n",
       "lgtinled      0\n",
       "smartmeter    0\n",
       "solar         0\n",
       "elecveh       0\n",
       "totalbtu      0\n",
       "totaldol      0\n",
       "dtype: int64"
      ]
     },
     "execution_count": 6,
     "metadata": {},
     "output_type": "execute_result"
    }
   ],
   "source": [
    "#Checking nulls\n",
    "energy_consumption_df.isnull().sum()"
   ]
  },
  {
   "cell_type": "code",
   "execution_count": 7,
   "id": "aa3dcbc2",
   "metadata": {},
   "outputs": [],
   "source": [
    "# Define a function to perform binning on TOTALBTU column\n",
    "def bin_total_btu(total_btu):\n",
    "    if total_btu < 55000:\n",
    "        return 'Low'\n",
    "    elif total_btu >= 55000 and total_btu < 95000:\n",
    "        return 'Medium'\n",
    "    else:\n",
    "        return 'High'\n",
    "\n",
    "# Apply binning function to create a new column 'BTU_Bin'\n",
    "energy_consumption_df['BTU_Bin'] = energy_consumption_df['totalbtu'].apply(bin_total_btu)\n",
    "\n",
    "# Perform one-hot encoding on the 'BTU_Bin' column\n",
    "X = pd.get_dummies(energy_consumption_df.drop(['totalbtu'], axis=1), columns=['BTU_Bin'], drop_first=True)\n",
    "y = energy_consumption_df['totalbtu']"
   ]
  },
  {
   "cell_type": "code",
   "execution_count": 8,
   "id": "b1ab7c36",
   "metadata": {},
   "outputs": [],
   "source": [
    "# Check the balance of bins\n",
    "bin_counts = energy_consumption_df['BTU_Bin'].value_counts()"
   ]
  },
  {
   "cell_type": "code",
   "execution_count": 9,
   "id": "a136864a",
   "metadata": {},
   "outputs": [
    {
     "name": "stdout",
     "output_type": "stream",
     "text": [
      "Counts of samples in each bin:\n",
      "BTU_Bin\n",
      "High      6240\n",
      "Low       6194\n",
      "Medium    6062\n",
      "Name: count, dtype: int64\n"
     ]
    }
   ],
   "source": [
    "# Display the counts of samples in each bin\n",
    "print(\"Counts of samples in each bin:\")\n",
    "print(bin_counts)"
   ]
  },
  {
   "cell_type": "code",
   "execution_count": 11,
   "id": "f5beb49c",
   "metadata": {},
   "outputs": [
    {
     "name": "stdout",
     "output_type": "stream",
     "text": [
      "Mean Squared Error (MSE): 526618178.5795278\n",
      "R-squared (R2): 0.7933460682175177\n"
     ]
    }
   ],
   "source": [
    "# Perform train-test split\n",
    "X_train, X_test, y_train, y_test = train_test_split(X, y, test_size=0.2, random_state=42)\n",
    "\n",
    "# Convert feature names to strings\n",
    "X_train.columns = X_train.columns.map(str)\n",
    "X_test.columns = X_test.columns.map(str)\n",
    "\n",
    "# Feature Scaling\n",
    "scaler = StandardScaler()\n",
    "X_train_scaled = scaler.fit_transform(X_train)\n",
    "X_test_scaled = scaler.transform(X_test)\n",
    "\n",
    "# Initialize the Linear Regression model\n",
    "lr_model = LinearRegression()\n",
    "\n",
    "# Train the model\n",
    "lr_model.fit(X_train_scaled, y_train)\n",
    "\n",
    "# Make predictions on the test set\n",
    "y_pred = lr_model.predict(X_test_scaled)\n",
    "\n",
    "# Evaluate model performance\n",
    "mse = mean_squared_error(y_test, y_pred)\n",
    "r2 = r2_score(y_test, y_pred)\n",
    "\n",
    "print(f\"Mean Squared Error (MSE): {mse}\")\n",
    "print(f\"R-squared (R2): {r2}\")\n"
   ]
  },
  {
   "cell_type": "code",
   "execution_count": null,
   "id": "7c878797",
   "metadata": {},
   "outputs": [],
   "source": []
  }
 ],
 "metadata": {
  "kernelspec": {
   "display_name": "Python 3 (ipykernel)",
   "language": "python",
   "name": "python3"
  },
  "language_info": {
   "codemirror_mode": {
    "name": "ipython",
    "version": 3
   },
   "file_extension": ".py",
   "mimetype": "text/x-python",
   "name": "python",
   "nbconvert_exporter": "python",
   "pygments_lexer": "ipython3",
   "version": "3.11.5"
  }
 },
 "nbformat": 4,
 "nbformat_minor": 5
}
